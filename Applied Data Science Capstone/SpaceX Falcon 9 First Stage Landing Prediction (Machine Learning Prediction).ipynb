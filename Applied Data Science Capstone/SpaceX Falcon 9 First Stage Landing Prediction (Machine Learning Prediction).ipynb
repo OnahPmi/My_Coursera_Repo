{
 "cells": [
  {
   "cell_type": "markdown",
   "id": "41092b48-3d26-4826-9516-ccaea45f5040",
   "metadata": {},
   "source": [
    "<p style=\"text-align:center\">\n",
    "    <a href=\"https://skills.network/?utm_medium=Exinfluencer&utm_source=Exinfluencer&utm_content=000026UJ&utm_term=10006555&utm_id=NA-SkillsNetwork-Channel-SkillsNetworkCoursesIBMDS0321ENSkillsNetwork26802033-2022-01-01\" target=\"_blank\">\n",
    "    <img src=\"https://cf-courses-data.s3.us.cloud-object-storage.appdomain.cloud/assets/logos/SN_web_lightmode.png\" width=\"200\" alt=\"Skills Network Logo\"  />\n",
    "    </a>\n",
    "</p>\n"
   ]
  },
  {
   "cell_type": "markdown",
   "id": "a7b195fb-7957-4e70-9739-a26fc8eb95bb",
   "metadata": {},
   "source": [
    "# **Space X  Falcon 9 First Stage Landing Prediction**\n"
   ]
  },
  {
   "cell_type": "markdown",
   "id": "3b088492-0aa6-4e07-a816-0b74dbc58203",
   "metadata": {},
   "source": [
    "## Assignment:  Machine Learning Prediction\n"
   ]
  },
  {
   "cell_type": "markdown",
   "id": "19c6c99b-e968-4d6e-a07a-38307d36ed2b",
   "metadata": {},
   "source": [
    "Estimated time needed: **60** minutes\n"
   ]
  },
  {
   "cell_type": "markdown",
   "id": "a4bec0cd-b2fe-48ff-8a60-44d57af5473c",
   "metadata": {},
   "source": [
    "Space X advertises Falcon 9 rocket launches on its website with a cost of 62 million dollars; other providers cost upward of 165 million dollars each, much of the savings is because Space X can reuse the first stage. Therefore if we can determine if the first stage will land, we can determine the cost of a launch. This information can be used if an alternate company wants to bid against space X for a rocket launch.   In this lab, you will create a machine learning pipeline  to predict if the first stage will land given the data from the preceding labs.\n"
   ]
  },
  {
   "cell_type": "markdown",
   "id": "9b9e79e6-8497-49ce-b2e1-e914bf87726c",
   "metadata": {},
   "source": [
    "![](https://cf-courses-data.s3.us.cloud-object-storage.appdomain.cloud/IBMDeveloperSkillsNetwork-DS0701EN-SkillsNetwork/api/Images/landing_1.gif)\n"
   ]
  },
  {
   "cell_type": "markdown",
   "id": "0fc39343-e511-4f02-aaaa-930eb60428d7",
   "metadata": {},
   "source": [
    "Several examples of an unsuccessful landing are shown here:\n"
   ]
  },
  {
   "cell_type": "markdown",
   "id": "d8f06dd0-f33f-4d53-9a20-580a42011408",
   "metadata": {},
   "source": [
    "![](https://cf-courses-data.s3.us.cloud-object-storage.appdomain.cloud/IBMDeveloperSkillsNetwork-DS0701EN-SkillsNetwork/api/Images/crash.gif)\n"
   ]
  },
  {
   "cell_type": "markdown",
   "id": "ef614108-fd8d-4344-948a-39d131d671df",
   "metadata": {},
   "source": [
    "Most unsuccessful landings are planed. Space X; performs a controlled landing in the oceans.\n"
   ]
  },
  {
   "cell_type": "markdown",
   "id": "21c1b9fb-9eed-461b-8c77-5c0950a00e6f",
   "metadata": {},
   "source": [
    "## Objectives\n"
   ]
  },
  {
   "cell_type": "markdown",
   "id": "25fe0855-ff49-4adb-8954-6c46fab06877",
   "metadata": {},
   "source": [
    "Perform exploratory  Data Analysis and determine Training Labels\n",
    "\n",
    "*   create a column for the class\n",
    "*   Standardize the data\n",
    "*   Split into training data and test data\n",
    "\n",
    "\\-Find best Hyperparameter for SVM, Classification Trees and Logistic Regression\n",
    "\n",
    "*   Find the method performs best using test data\n"
   ]
  },
  {
   "cell_type": "markdown",
   "id": "28d653b1-3b9a-429e-80e0-02bd16de722e",
   "metadata": {},
   "source": [
    "## Import Libraries and Define Auxiliary Functions\n"
   ]
  },
  {
   "cell_type": "code",
   "execution_count": 1,
   "id": "4818736e-9044-4cbe-9367-8b21b0246077",
   "metadata": {},
   "outputs": [],
   "source": [
    "# import piplite\n",
    "# await piplite.install(['numpy'])\n",
    "# await piplite.install(['pandas'])\n",
    "# await piplite.install(['seaborn'])"
   ]
  },
  {
   "cell_type": "markdown",
   "id": "e3bd986c-7b04-48d7-bdbe-1e3067039e5f",
   "metadata": {},
   "source": [
    "We will import the following libraries for the lab\n"
   ]
  },
  {
   "cell_type": "code",
   "execution_count": 84,
   "id": "8513bd32-b465-4ded-8bd1-75315990d233",
   "metadata": {},
   "outputs": [],
   "source": [
    "%matplotlib notebook\n",
    "\n",
    "# Pandas is a software library written for the Python programming language for data manipulation and analysis.\n",
    "import pandas as pd\n",
    "# NumPy is a library for the Python programming language, adding support for large, multi-dimensional arrays and matrices, along with a large collection of high-level mathematical functions to operate on these arrays\n",
    "import numpy as np\n",
    "# Matplotlib is a plotting library for python and pyplot gives us a MatLab like plotting framework. We will use this in our plotter function to plot data.\n",
    "import matplotlib.pyplot as plt\n",
    "#Seaborn is a Python data visualization library based on matplotlib. It provides a high-level interface for drawing attractive and informative statistical graphics\n",
    "import seaborn as sns\n",
    "# Preprocessing allows us to standarsize our data\n",
    "from sklearn import preprocessing\n",
    "# Allows us to split our data into training and testing data\n",
    "from sklearn.model_selection import train_test_split\n",
    "# Allows us to test parameters of classification algorithms and find the best one\n",
    "from sklearn.model_selection import GridSearchCV\n",
    "# Logistic Regression classification algorithm\n",
    "from sklearn.linear_model import LogisticRegression\n",
    "# Support Vector Machine classification algorithm\n",
    "from sklearn.svm import SVC\n",
    "# Decision Tree classification algorithm\n",
    "from sklearn.tree import DecisionTreeClassifier\n",
    "# K Nearest Neighbors classification algorithm\n",
    "from sklearn.neighbors import KNeighborsClassifier\n",
    "\n"
   ]
  },
  {
   "cell_type": "markdown",
   "id": "2a2bf13b-19b1-43d6-a2cd-d2f20bd69fb5",
   "metadata": {},
   "source": [
    "This function is to plot the confusion matrix.\n"
   ]
  },
  {
   "cell_type": "code",
   "execution_count": 3,
   "id": "1f30279e-9d5e-4df5-a814-8053d099c511",
   "metadata": {},
   "outputs": [],
   "source": [
    "def plot_confusion_matrix(y,y_predict, name=N):\n",
    "    \"this function plots the confusion matrix\"\n",
    "    from sklearn.metrics import confusion_matrix\n",
    "    plt.figure(figsize=(8,6))\n",
    "    cm = confusion_matrix(y, y_predict)\n",
    "    ax= plt.subplot()\n",
    "    sns.heatmap(cm, annot=True, ax = ax, cmap=[\"whitesmoke\", \"silver\", \"slategrey\", \"black\"]); #annot=True to annotate cells\n",
    "    ax.set_xlabel('Predicted labels')\n",
    "    ax.set_ylabel('True labels')\n",
    "    ax.set_title('Confusion Matrix'); \n",
    "    ax.xaxis.set_ticklabels(['did not land', 'landed']); \n",
    "    ax.yaxis.set_ticklabels(['did not land', 'landed']) \n",
    "    plt.show() "
   ]
  },
  {
   "cell_type": "markdown",
   "id": "c0abf51b-e8f8-4fa5-8275-1205554ba883",
   "metadata": {},
   "source": [
    "## Load the dataframe\n"
   ]
  },
  {
   "cell_type": "markdown",
   "id": "e6b453e1-b094-4508-a4e1-5159ee52d46e",
   "metadata": {},
   "source": [
    "Load the data\n"
   ]
  },
  {
   "cell_type": "code",
   "execution_count": 4,
   "id": "303c7783-faac-4ca0-98a5-df6c89c65df4",
   "metadata": {},
   "outputs": [],
   "source": [
    "# from js import fetch\n",
    "# import io\n",
    "\n",
    "URL1 = \"https://cf-courses-data.s3.us.cloud-object-storage.appdomain.cloud/IBM-DS0321EN-SkillsNetwork/datasets/dataset_part_2.csv\"\n",
    "# resp1 = await fetch(URL1)\n",
    "# text1 = io.BytesIO((await resp1.arrayBuffer()).to_py())\n",
    "data = pd.read_csv(URL1)"
   ]
  },
  {
   "cell_type": "code",
   "execution_count": 5,
   "id": "2bbe74d1-22a0-4164-a154-7b61fd30db7f",
   "metadata": {},
   "outputs": [
    {
     "data": {
      "text/html": [
       "<div>\n",
       "<style scoped>\n",
       "    .dataframe tbody tr th:only-of-type {\n",
       "        vertical-align: middle;\n",
       "    }\n",
       "\n",
       "    .dataframe tbody tr th {\n",
       "        vertical-align: top;\n",
       "    }\n",
       "\n",
       "    .dataframe thead th {\n",
       "        text-align: right;\n",
       "    }\n",
       "</style>\n",
       "<table border=\"1\" class=\"dataframe\">\n",
       "  <thead>\n",
       "    <tr style=\"text-align: right;\">\n",
       "      <th></th>\n",
       "      <th>FlightNumber</th>\n",
       "      <th>Date</th>\n",
       "      <th>BoosterVersion</th>\n",
       "      <th>PayloadMass</th>\n",
       "      <th>Orbit</th>\n",
       "      <th>LaunchSite</th>\n",
       "      <th>Outcome</th>\n",
       "      <th>Flights</th>\n",
       "      <th>GridFins</th>\n",
       "      <th>Reused</th>\n",
       "      <th>Legs</th>\n",
       "      <th>LandingPad</th>\n",
       "      <th>Block</th>\n",
       "      <th>ReusedCount</th>\n",
       "      <th>Serial</th>\n",
       "      <th>Longitude</th>\n",
       "      <th>Latitude</th>\n",
       "      <th>Class</th>\n",
       "    </tr>\n",
       "  </thead>\n",
       "  <tbody>\n",
       "    <tr>\n",
       "      <th>0</th>\n",
       "      <td>1</td>\n",
       "      <td>2010-06-04</td>\n",
       "      <td>Falcon 9</td>\n",
       "      <td>6104.959412</td>\n",
       "      <td>LEO</td>\n",
       "      <td>CCAFS SLC 40</td>\n",
       "      <td>None None</td>\n",
       "      <td>1</td>\n",
       "      <td>False</td>\n",
       "      <td>False</td>\n",
       "      <td>False</td>\n",
       "      <td>NaN</td>\n",
       "      <td>1.0</td>\n",
       "      <td>0</td>\n",
       "      <td>B0003</td>\n",
       "      <td>-80.577366</td>\n",
       "      <td>28.561857</td>\n",
       "      <td>0</td>\n",
       "    </tr>\n",
       "    <tr>\n",
       "      <th>1</th>\n",
       "      <td>2</td>\n",
       "      <td>2012-05-22</td>\n",
       "      <td>Falcon 9</td>\n",
       "      <td>525.000000</td>\n",
       "      <td>LEO</td>\n",
       "      <td>CCAFS SLC 40</td>\n",
       "      <td>None None</td>\n",
       "      <td>1</td>\n",
       "      <td>False</td>\n",
       "      <td>False</td>\n",
       "      <td>False</td>\n",
       "      <td>NaN</td>\n",
       "      <td>1.0</td>\n",
       "      <td>0</td>\n",
       "      <td>B0005</td>\n",
       "      <td>-80.577366</td>\n",
       "      <td>28.561857</td>\n",
       "      <td>0</td>\n",
       "    </tr>\n",
       "    <tr>\n",
       "      <th>2</th>\n",
       "      <td>3</td>\n",
       "      <td>2013-03-01</td>\n",
       "      <td>Falcon 9</td>\n",
       "      <td>677.000000</td>\n",
       "      <td>ISS</td>\n",
       "      <td>CCAFS SLC 40</td>\n",
       "      <td>None None</td>\n",
       "      <td>1</td>\n",
       "      <td>False</td>\n",
       "      <td>False</td>\n",
       "      <td>False</td>\n",
       "      <td>NaN</td>\n",
       "      <td>1.0</td>\n",
       "      <td>0</td>\n",
       "      <td>B0007</td>\n",
       "      <td>-80.577366</td>\n",
       "      <td>28.561857</td>\n",
       "      <td>0</td>\n",
       "    </tr>\n",
       "    <tr>\n",
       "      <th>3</th>\n",
       "      <td>4</td>\n",
       "      <td>2013-09-29</td>\n",
       "      <td>Falcon 9</td>\n",
       "      <td>500.000000</td>\n",
       "      <td>PO</td>\n",
       "      <td>VAFB SLC 4E</td>\n",
       "      <td>False Ocean</td>\n",
       "      <td>1</td>\n",
       "      <td>False</td>\n",
       "      <td>False</td>\n",
       "      <td>False</td>\n",
       "      <td>NaN</td>\n",
       "      <td>1.0</td>\n",
       "      <td>0</td>\n",
       "      <td>B1003</td>\n",
       "      <td>-120.610829</td>\n",
       "      <td>34.632093</td>\n",
       "      <td>0</td>\n",
       "    </tr>\n",
       "    <tr>\n",
       "      <th>4</th>\n",
       "      <td>5</td>\n",
       "      <td>2013-12-03</td>\n",
       "      <td>Falcon 9</td>\n",
       "      <td>3170.000000</td>\n",
       "      <td>GTO</td>\n",
       "      <td>CCAFS SLC 40</td>\n",
       "      <td>None None</td>\n",
       "      <td>1</td>\n",
       "      <td>False</td>\n",
       "      <td>False</td>\n",
       "      <td>False</td>\n",
       "      <td>NaN</td>\n",
       "      <td>1.0</td>\n",
       "      <td>0</td>\n",
       "      <td>B1004</td>\n",
       "      <td>-80.577366</td>\n",
       "      <td>28.561857</td>\n",
       "      <td>0</td>\n",
       "    </tr>\n",
       "  </tbody>\n",
       "</table>\n",
       "</div>"
      ],
      "text/plain": [
       "   FlightNumber        Date BoosterVersion  PayloadMass Orbit    LaunchSite  \\\n",
       "0             1  2010-06-04       Falcon 9  6104.959412   LEO  CCAFS SLC 40   \n",
       "1             2  2012-05-22       Falcon 9   525.000000   LEO  CCAFS SLC 40   \n",
       "2             3  2013-03-01       Falcon 9   677.000000   ISS  CCAFS SLC 40   \n",
       "3             4  2013-09-29       Falcon 9   500.000000    PO   VAFB SLC 4E   \n",
       "4             5  2013-12-03       Falcon 9  3170.000000   GTO  CCAFS SLC 40   \n",
       "\n",
       "       Outcome  Flights  GridFins  Reused   Legs LandingPad  Block  \\\n",
       "0    None None        1     False   False  False        NaN    1.0   \n",
       "1    None None        1     False   False  False        NaN    1.0   \n",
       "2    None None        1     False   False  False        NaN    1.0   \n",
       "3  False Ocean        1     False   False  False        NaN    1.0   \n",
       "4    None None        1     False   False  False        NaN    1.0   \n",
       "\n",
       "   ReusedCount Serial   Longitude   Latitude  Class  \n",
       "0            0  B0003  -80.577366  28.561857      0  \n",
       "1            0  B0005  -80.577366  28.561857      0  \n",
       "2            0  B0007  -80.577366  28.561857      0  \n",
       "3            0  B1003 -120.610829  34.632093      0  \n",
       "4            0  B1004  -80.577366  28.561857      0  "
      ]
     },
     "execution_count": 5,
     "metadata": {},
     "output_type": "execute_result"
    }
   ],
   "source": [
    "data.head()"
   ]
  },
  {
   "cell_type": "code",
   "execution_count": 6,
   "id": "0ca7bbd2-ed4e-4eef-8f27-be9309caed78",
   "metadata": {},
   "outputs": [],
   "source": [
    "URL2 = 'https://cf-courses-data.s3.us.cloud-object-storage.appdomain.cloud/IBM-DS0321EN-SkillsNetwork/datasets/dataset_part_3.csv'\n",
    "# resp2 = await fetch(URL2)\n",
    "# text2 = io.BytesIO((await resp2.arrayBuffer()).to_py())\n",
    "X = pd.read_csv(URL2)"
   ]
  },
  {
   "cell_type": "code",
   "execution_count": 7,
   "id": "02af7a31-bf3d-431a-ae95-fd146cd09329",
   "metadata": {},
   "outputs": [
    {
     "data": {
      "text/html": [
       "<div>\n",
       "<style scoped>\n",
       "    .dataframe tbody tr th:only-of-type {\n",
       "        vertical-align: middle;\n",
       "    }\n",
       "\n",
       "    .dataframe tbody tr th {\n",
       "        vertical-align: top;\n",
       "    }\n",
       "\n",
       "    .dataframe thead th {\n",
       "        text-align: right;\n",
       "    }\n",
       "</style>\n",
       "<table border=\"1\" class=\"dataframe\">\n",
       "  <thead>\n",
       "    <tr style=\"text-align: right;\">\n",
       "      <th></th>\n",
       "      <th>FlightNumber</th>\n",
       "      <th>PayloadMass</th>\n",
       "      <th>Flights</th>\n",
       "      <th>Block</th>\n",
       "      <th>ReusedCount</th>\n",
       "      <th>Orbit_ES-L1</th>\n",
       "      <th>Orbit_GEO</th>\n",
       "      <th>Orbit_GTO</th>\n",
       "      <th>Orbit_HEO</th>\n",
       "      <th>Orbit_ISS</th>\n",
       "      <th>...</th>\n",
       "      <th>Serial_B1058</th>\n",
       "      <th>Serial_B1059</th>\n",
       "      <th>Serial_B1060</th>\n",
       "      <th>Serial_B1062</th>\n",
       "      <th>GridFins_False</th>\n",
       "      <th>GridFins_True</th>\n",
       "      <th>Reused_False</th>\n",
       "      <th>Reused_True</th>\n",
       "      <th>Legs_False</th>\n",
       "      <th>Legs_True</th>\n",
       "    </tr>\n",
       "  </thead>\n",
       "  <tbody>\n",
       "    <tr>\n",
       "      <th>0</th>\n",
       "      <td>1.0</td>\n",
       "      <td>6104.959412</td>\n",
       "      <td>1.0</td>\n",
       "      <td>1.0</td>\n",
       "      <td>0.0</td>\n",
       "      <td>0.0</td>\n",
       "      <td>0.0</td>\n",
       "      <td>0.0</td>\n",
       "      <td>0.0</td>\n",
       "      <td>0.0</td>\n",
       "      <td>...</td>\n",
       "      <td>0.0</td>\n",
       "      <td>0.0</td>\n",
       "      <td>0.0</td>\n",
       "      <td>0.0</td>\n",
       "      <td>1.0</td>\n",
       "      <td>0.0</td>\n",
       "      <td>1.0</td>\n",
       "      <td>0.0</td>\n",
       "      <td>1.0</td>\n",
       "      <td>0.0</td>\n",
       "    </tr>\n",
       "    <tr>\n",
       "      <th>1</th>\n",
       "      <td>2.0</td>\n",
       "      <td>525.000000</td>\n",
       "      <td>1.0</td>\n",
       "      <td>1.0</td>\n",
       "      <td>0.0</td>\n",
       "      <td>0.0</td>\n",
       "      <td>0.0</td>\n",
       "      <td>0.0</td>\n",
       "      <td>0.0</td>\n",
       "      <td>0.0</td>\n",
       "      <td>...</td>\n",
       "      <td>0.0</td>\n",
       "      <td>0.0</td>\n",
       "      <td>0.0</td>\n",
       "      <td>0.0</td>\n",
       "      <td>1.0</td>\n",
       "      <td>0.0</td>\n",
       "      <td>1.0</td>\n",
       "      <td>0.0</td>\n",
       "      <td>1.0</td>\n",
       "      <td>0.0</td>\n",
       "    </tr>\n",
       "    <tr>\n",
       "      <th>2</th>\n",
       "      <td>3.0</td>\n",
       "      <td>677.000000</td>\n",
       "      <td>1.0</td>\n",
       "      <td>1.0</td>\n",
       "      <td>0.0</td>\n",
       "      <td>0.0</td>\n",
       "      <td>0.0</td>\n",
       "      <td>0.0</td>\n",
       "      <td>0.0</td>\n",
       "      <td>1.0</td>\n",
       "      <td>...</td>\n",
       "      <td>0.0</td>\n",
       "      <td>0.0</td>\n",
       "      <td>0.0</td>\n",
       "      <td>0.0</td>\n",
       "      <td>1.0</td>\n",
       "      <td>0.0</td>\n",
       "      <td>1.0</td>\n",
       "      <td>0.0</td>\n",
       "      <td>1.0</td>\n",
       "      <td>0.0</td>\n",
       "    </tr>\n",
       "    <tr>\n",
       "      <th>3</th>\n",
       "      <td>4.0</td>\n",
       "      <td>500.000000</td>\n",
       "      <td>1.0</td>\n",
       "      <td>1.0</td>\n",
       "      <td>0.0</td>\n",
       "      <td>0.0</td>\n",
       "      <td>0.0</td>\n",
       "      <td>0.0</td>\n",
       "      <td>0.0</td>\n",
       "      <td>0.0</td>\n",
       "      <td>...</td>\n",
       "      <td>0.0</td>\n",
       "      <td>0.0</td>\n",
       "      <td>0.0</td>\n",
       "      <td>0.0</td>\n",
       "      <td>1.0</td>\n",
       "      <td>0.0</td>\n",
       "      <td>1.0</td>\n",
       "      <td>0.0</td>\n",
       "      <td>1.0</td>\n",
       "      <td>0.0</td>\n",
       "    </tr>\n",
       "    <tr>\n",
       "      <th>4</th>\n",
       "      <td>5.0</td>\n",
       "      <td>3170.000000</td>\n",
       "      <td>1.0</td>\n",
       "      <td>1.0</td>\n",
       "      <td>0.0</td>\n",
       "      <td>0.0</td>\n",
       "      <td>0.0</td>\n",
       "      <td>1.0</td>\n",
       "      <td>0.0</td>\n",
       "      <td>0.0</td>\n",
       "      <td>...</td>\n",
       "      <td>0.0</td>\n",
       "      <td>0.0</td>\n",
       "      <td>0.0</td>\n",
       "      <td>0.0</td>\n",
       "      <td>1.0</td>\n",
       "      <td>0.0</td>\n",
       "      <td>1.0</td>\n",
       "      <td>0.0</td>\n",
       "      <td>1.0</td>\n",
       "      <td>0.0</td>\n",
       "    </tr>\n",
       "    <tr>\n",
       "      <th>...</th>\n",
       "      <td>...</td>\n",
       "      <td>...</td>\n",
       "      <td>...</td>\n",
       "      <td>...</td>\n",
       "      <td>...</td>\n",
       "      <td>...</td>\n",
       "      <td>...</td>\n",
       "      <td>...</td>\n",
       "      <td>...</td>\n",
       "      <td>...</td>\n",
       "      <td>...</td>\n",
       "      <td>...</td>\n",
       "      <td>...</td>\n",
       "      <td>...</td>\n",
       "      <td>...</td>\n",
       "      <td>...</td>\n",
       "      <td>...</td>\n",
       "      <td>...</td>\n",
       "      <td>...</td>\n",
       "      <td>...</td>\n",
       "      <td>...</td>\n",
       "    </tr>\n",
       "    <tr>\n",
       "      <th>85</th>\n",
       "      <td>86.0</td>\n",
       "      <td>15400.000000</td>\n",
       "      <td>2.0</td>\n",
       "      <td>5.0</td>\n",
       "      <td>2.0</td>\n",
       "      <td>0.0</td>\n",
       "      <td>0.0</td>\n",
       "      <td>0.0</td>\n",
       "      <td>0.0</td>\n",
       "      <td>0.0</td>\n",
       "      <td>...</td>\n",
       "      <td>0.0</td>\n",
       "      <td>0.0</td>\n",
       "      <td>1.0</td>\n",
       "      <td>0.0</td>\n",
       "      <td>0.0</td>\n",
       "      <td>1.0</td>\n",
       "      <td>0.0</td>\n",
       "      <td>1.0</td>\n",
       "      <td>0.0</td>\n",
       "      <td>1.0</td>\n",
       "    </tr>\n",
       "    <tr>\n",
       "      <th>86</th>\n",
       "      <td>87.0</td>\n",
       "      <td>15400.000000</td>\n",
       "      <td>3.0</td>\n",
       "      <td>5.0</td>\n",
       "      <td>2.0</td>\n",
       "      <td>0.0</td>\n",
       "      <td>0.0</td>\n",
       "      <td>0.0</td>\n",
       "      <td>0.0</td>\n",
       "      <td>0.0</td>\n",
       "      <td>...</td>\n",
       "      <td>1.0</td>\n",
       "      <td>0.0</td>\n",
       "      <td>0.0</td>\n",
       "      <td>0.0</td>\n",
       "      <td>0.0</td>\n",
       "      <td>1.0</td>\n",
       "      <td>0.0</td>\n",
       "      <td>1.0</td>\n",
       "      <td>0.0</td>\n",
       "      <td>1.0</td>\n",
       "    </tr>\n",
       "    <tr>\n",
       "      <th>87</th>\n",
       "      <td>88.0</td>\n",
       "      <td>15400.000000</td>\n",
       "      <td>6.0</td>\n",
       "      <td>5.0</td>\n",
       "      <td>5.0</td>\n",
       "      <td>0.0</td>\n",
       "      <td>0.0</td>\n",
       "      <td>0.0</td>\n",
       "      <td>0.0</td>\n",
       "      <td>0.0</td>\n",
       "      <td>...</td>\n",
       "      <td>0.0</td>\n",
       "      <td>0.0</td>\n",
       "      <td>0.0</td>\n",
       "      <td>0.0</td>\n",
       "      <td>0.0</td>\n",
       "      <td>1.0</td>\n",
       "      <td>0.0</td>\n",
       "      <td>1.0</td>\n",
       "      <td>0.0</td>\n",
       "      <td>1.0</td>\n",
       "    </tr>\n",
       "    <tr>\n",
       "      <th>88</th>\n",
       "      <td>89.0</td>\n",
       "      <td>15400.000000</td>\n",
       "      <td>3.0</td>\n",
       "      <td>5.0</td>\n",
       "      <td>2.0</td>\n",
       "      <td>0.0</td>\n",
       "      <td>0.0</td>\n",
       "      <td>0.0</td>\n",
       "      <td>0.0</td>\n",
       "      <td>0.0</td>\n",
       "      <td>...</td>\n",
       "      <td>0.0</td>\n",
       "      <td>0.0</td>\n",
       "      <td>1.0</td>\n",
       "      <td>0.0</td>\n",
       "      <td>0.0</td>\n",
       "      <td>1.0</td>\n",
       "      <td>0.0</td>\n",
       "      <td>1.0</td>\n",
       "      <td>0.0</td>\n",
       "      <td>1.0</td>\n",
       "    </tr>\n",
       "    <tr>\n",
       "      <th>89</th>\n",
       "      <td>90.0</td>\n",
       "      <td>3681.000000</td>\n",
       "      <td>1.0</td>\n",
       "      <td>5.0</td>\n",
       "      <td>0.0</td>\n",
       "      <td>0.0</td>\n",
       "      <td>0.0</td>\n",
       "      <td>0.0</td>\n",
       "      <td>0.0</td>\n",
       "      <td>0.0</td>\n",
       "      <td>...</td>\n",
       "      <td>0.0</td>\n",
       "      <td>0.0</td>\n",
       "      <td>0.0</td>\n",
       "      <td>1.0</td>\n",
       "      <td>0.0</td>\n",
       "      <td>1.0</td>\n",
       "      <td>1.0</td>\n",
       "      <td>0.0</td>\n",
       "      <td>0.0</td>\n",
       "      <td>1.0</td>\n",
       "    </tr>\n",
       "  </tbody>\n",
       "</table>\n",
       "<p>90 rows × 83 columns</p>\n",
       "</div>"
      ],
      "text/plain": [
       "    FlightNumber   PayloadMass  Flights  Block  ReusedCount  Orbit_ES-L1  \\\n",
       "0            1.0   6104.959412      1.0    1.0          0.0          0.0   \n",
       "1            2.0    525.000000      1.0    1.0          0.0          0.0   \n",
       "2            3.0    677.000000      1.0    1.0          0.0          0.0   \n",
       "3            4.0    500.000000      1.0    1.0          0.0          0.0   \n",
       "4            5.0   3170.000000      1.0    1.0          0.0          0.0   \n",
       "..           ...           ...      ...    ...          ...          ...   \n",
       "85          86.0  15400.000000      2.0    5.0          2.0          0.0   \n",
       "86          87.0  15400.000000      3.0    5.0          2.0          0.0   \n",
       "87          88.0  15400.000000      6.0    5.0          5.0          0.0   \n",
       "88          89.0  15400.000000      3.0    5.0          2.0          0.0   \n",
       "89          90.0   3681.000000      1.0    5.0          0.0          0.0   \n",
       "\n",
       "    Orbit_GEO  Orbit_GTO  Orbit_HEO  Orbit_ISS  ...  Serial_B1058  \\\n",
       "0         0.0        0.0        0.0        0.0  ...           0.0   \n",
       "1         0.0        0.0        0.0        0.0  ...           0.0   \n",
       "2         0.0        0.0        0.0        1.0  ...           0.0   \n",
       "3         0.0        0.0        0.0        0.0  ...           0.0   \n",
       "4         0.0        1.0        0.0        0.0  ...           0.0   \n",
       "..        ...        ...        ...        ...  ...           ...   \n",
       "85        0.0        0.0        0.0        0.0  ...           0.0   \n",
       "86        0.0        0.0        0.0        0.0  ...           1.0   \n",
       "87        0.0        0.0        0.0        0.0  ...           0.0   \n",
       "88        0.0        0.0        0.0        0.0  ...           0.0   \n",
       "89        0.0        0.0        0.0        0.0  ...           0.0   \n",
       "\n",
       "    Serial_B1059  Serial_B1060  Serial_B1062  GridFins_False  GridFins_True  \\\n",
       "0            0.0           0.0           0.0             1.0            0.0   \n",
       "1            0.0           0.0           0.0             1.0            0.0   \n",
       "2            0.0           0.0           0.0             1.0            0.0   \n",
       "3            0.0           0.0           0.0             1.0            0.0   \n",
       "4            0.0           0.0           0.0             1.0            0.0   \n",
       "..           ...           ...           ...             ...            ...   \n",
       "85           0.0           1.0           0.0             0.0            1.0   \n",
       "86           0.0           0.0           0.0             0.0            1.0   \n",
       "87           0.0           0.0           0.0             0.0            1.0   \n",
       "88           0.0           1.0           0.0             0.0            1.0   \n",
       "89           0.0           0.0           1.0             0.0            1.0   \n",
       "\n",
       "    Reused_False  Reused_True  Legs_False  Legs_True  \n",
       "0            1.0          0.0         1.0        0.0  \n",
       "1            1.0          0.0         1.0        0.0  \n",
       "2            1.0          0.0         1.0        0.0  \n",
       "3            1.0          0.0         1.0        0.0  \n",
       "4            1.0          0.0         1.0        0.0  \n",
       "..           ...          ...         ...        ...  \n",
       "85           0.0          1.0         0.0        1.0  \n",
       "86           0.0          1.0         0.0        1.0  \n",
       "87           0.0          1.0         0.0        1.0  \n",
       "88           0.0          1.0         0.0        1.0  \n",
       "89           1.0          0.0         0.0        1.0  \n",
       "\n",
       "[90 rows x 83 columns]"
      ]
     },
     "execution_count": 7,
     "metadata": {},
     "output_type": "execute_result"
    }
   ],
   "source": [
    "X.head(100)"
   ]
  },
  {
   "cell_type": "markdown",
   "id": "5fc5aab8-54d4-49d9-aff6-0dd579baa44f",
   "metadata": {},
   "source": [
    "## TASK  1\n"
   ]
  },
  {
   "cell_type": "markdown",
   "id": "013d35ed-ebae-4e84-8c60-935e3a699346",
   "metadata": {},
   "source": [
    "Create a NumPy array from the column <code>Class</code> in <code>data</code>, by applying the method <code>to_numpy()</code>  then\n",
    "assign it  to the variable <code>Y</code>,make sure the output is a  Pandas series (only one bracket df\\['name of  column']).\n"
   ]
  },
  {
   "cell_type": "code",
   "execution_count": 8,
   "id": "bc72dffc-1032-4a3a-b84f-d2968b3faffc",
   "metadata": {},
   "outputs": [
    {
     "data": {
      "text/plain": [
       "numpy.ndarray"
      ]
     },
     "execution_count": 8,
     "metadata": {},
     "output_type": "execute_result"
    }
   ],
   "source": [
    "# Y = data[\"Class\"].values\n",
    "Y = data[\"Class\"].to_numpy()\n",
    "type(Y)"
   ]
  },
  {
   "cell_type": "markdown",
   "id": "4d79f1ca-2636-4221-895a-4afc091c73b0",
   "metadata": {},
   "source": [
    "## TASK  2\n"
   ]
  },
  {
   "cell_type": "markdown",
   "id": "324ed6d1-626f-4c23-bf84-efd98f797280",
   "metadata": {},
   "source": [
    "Standardize the data in <code>X</code> then reassign it to the variable  <code>X</code> using the transform provided below.\n"
   ]
  },
  {
   "cell_type": "code",
   "execution_count": 9,
   "id": "9067e374-f502-44c6-a628-29186009fd45",
   "metadata": {},
   "outputs": [
    {
     "data": {
      "text/plain": [
       "array([[-1.71291154e+00, -1.94814463e-16, -6.53912840e-01, ...,\n",
       "        -8.35531692e-01,  1.93309133e+00, -1.93309133e+00],\n",
       "       [-1.67441914e+00, -1.19523159e+00, -6.53912840e-01, ...,\n",
       "        -8.35531692e-01,  1.93309133e+00, -1.93309133e+00],\n",
       "       [-1.63592675e+00, -1.16267307e+00, -6.53912840e-01, ...,\n",
       "        -8.35531692e-01,  1.93309133e+00, -1.93309133e+00],\n",
       "       ...,\n",
       "       [ 1.63592675e+00,  1.99100483e+00,  3.49060516e+00, ...,\n",
       "         1.19684269e+00, -5.17306132e-01,  5.17306132e-01],\n",
       "       [ 1.67441914e+00,  1.99100483e+00,  1.00389436e+00, ...,\n",
       "         1.19684269e+00, -5.17306132e-01,  5.17306132e-01],\n",
       "       [ 1.71291154e+00, -5.19213966e-01, -6.53912840e-01, ...,\n",
       "        -8.35531692e-01, -5.17306132e-01,  5.17306132e-01]])"
      ]
     },
     "execution_count": 9,
     "metadata": {},
     "output_type": "execute_result"
    }
   ],
   "source": [
    "# students get this \n",
    "transform = preprocessing.StandardScaler()\n",
    "X = transform.fit_transform(X)\n",
    "X"
   ]
  },
  {
   "cell_type": "markdown",
   "id": "a6f007c0-65fe-408a-9af6-febef40b1e1b",
   "metadata": {},
   "source": [
    "We split the data into training and testing data using the  function  <code>train_test_split</code>.   The training data is divided into validation data, a second set used for training  data; then the models are trained and hyperparameters are selected using the function <code>GridSearchCV</code>.\n"
   ]
  },
  {
   "cell_type": "markdown",
   "id": "c4a2cfde-e37a-475f-95ad-95246535ff18",
   "metadata": {},
   "source": [
    "## TASK  3\n"
   ]
  },
  {
   "cell_type": "markdown",
   "id": "3b2ff7f9-f969-4ba2-a2bd-17f0b7d6464e",
   "metadata": {},
   "source": [
    "Use the function train_test_split to split the data X and Y into training and test data. Set the parameter test_size to  0.2 and random_state to 2. The training data and test data should be assigned to the following labels.\n"
   ]
  },
  {
   "cell_type": "markdown",
   "id": "5da81a62-3998-436c-b96e-9e7a1db0825f",
   "metadata": {},
   "source": [
    "<code>X_train, X_test, Y_train, Y_test</code>\n"
   ]
  },
  {
   "cell_type": "code",
   "execution_count": 10,
   "id": "bef9d582-2c05-4a6f-ac6a-125766d093c7",
   "metadata": {},
   "outputs": [],
   "source": [
    "X_train, X_test, Y_train, Y_test = train_test_split(X, Y, test_size=0.2, random_state=2)"
   ]
  },
  {
   "cell_type": "markdown",
   "id": "e81b772b-0a2e-4f30-a774-8bff2b8fe8b0",
   "metadata": {},
   "source": [
    "we can see we only have 18 test samples.\n"
   ]
  },
  {
   "cell_type": "code",
   "execution_count": 11,
   "id": "77d6496a-d933-420f-9352-1c95a832b84d",
   "metadata": {},
   "outputs": [
    {
     "data": {
      "text/plain": [
       "(18,)"
      ]
     },
     "execution_count": 11,
     "metadata": {},
     "output_type": "execute_result"
    }
   ],
   "source": [
    "Y_test.shape"
   ]
  },
  {
   "cell_type": "markdown",
   "id": "1e778d63-eec7-4bf8-a83e-3397997026fa",
   "metadata": {},
   "source": [
    "## TASK  4\n"
   ]
  },
  {
   "cell_type": "markdown",
   "id": "06a7589e-a488-431b-b329-c78ea814f020",
   "metadata": {},
   "source": [
    "Create a logistic regression object  then create a  GridSearchCV object  <code>logreg_cv</code> with cv = 10.  Fit the object to find the best parameters from the dictionary <code>parameters</code>.\n"
   ]
  },
  {
   "cell_type": "code",
   "execution_count": 12,
   "id": "93fd1432-7426-4005-8dfe-04380700d42d",
   "metadata": {},
   "outputs": [],
   "source": [
    "parameters ={'C':[0.01,0.1,1],\n",
    "             'penalty':['l2'],\n",
    "             'solver':['lbfgs']}"
   ]
  },
  {
   "cell_type": "code",
   "execution_count": 13,
   "id": "de49af42-d4af-4f3b-bbbb-3b7cc6793c21",
   "metadata": {},
   "outputs": [
    {
     "data": {
      "text/plain": [
       "GridSearchCV(cv=10, estimator=LogisticRegression(),\n",
       "             param_grid={'C': [0.001, 0.01, 0.1, 1, 10, 100, 1000],\n",
       "                         'penalty': ['l2'], 'solver': ['lbfgs', 'liblinear']})"
      ]
     },
     "execution_count": 13,
     "metadata": {},
     "output_type": "execute_result"
    }
   ],
   "source": [
    "parameters ={\"C\":[0.001, 0.01, 0.1 ,1, 10, 100, 1000],\n",
    "             'penalty':['l2'], \n",
    "             'solver':['lbfgs', 'liblinear']}  # l1 lasso l2 ridge\n",
    "lr=LogisticRegression()\n",
    "logreg_cv = GridSearchCV(lr, parameters, cv=10)\n",
    "logreg_cv.fit(X_train, Y_train)"
   ]
  },
  {
   "cell_type": "markdown",
   "id": "a75d5bed-04e0-447a-a14a-eb0229e8da9e",
   "metadata": {},
   "source": [
    "We output the <code>GridSearchCV</code> object for logistic regression. We display the best parameters using the data attribute <code>best_params\\_</code> and the accuracy on the validation data using the data attribute <code>best_score\\_</code>.\n"
   ]
  },
  {
   "cell_type": "code",
   "execution_count": 14,
   "id": "8dfcfcaf-4c12-44f5-b7e4-3d00e56313dc",
   "metadata": {},
   "outputs": [
    {
     "name": "stdout",
     "output_type": "stream",
     "text": [
      "tuned hpyerparameters :(best parameters)  {'C': 0.01, 'penalty': 'l2', 'solver': 'lbfgs'}\n",
      "accuracy : 0.8464285714285713\n"
     ]
    }
   ],
   "source": [
    "print(\"tuned hpyerparameters :(best parameters) \",logreg_cv.best_params_)\n",
    "print(\"accuracy :\",logreg_cv.best_score_)"
   ]
  },
  {
   "cell_type": "markdown",
   "id": "5df3f620-3e95-406d-b01d-667801f1d09d",
   "metadata": {},
   "source": [
    "## TASK  5\n"
   ]
  },
  {
   "cell_type": "markdown",
   "id": "8890f2b5-9f2a-478b-8772-078b2e55483d",
   "metadata": {},
   "source": [
    "Calculate the accuracy on the test data using the method <code>score</code>:\n"
   ]
  },
  {
   "cell_type": "code",
   "execution_count": 15,
   "id": "869d31ff-0736-4d9a-a9c2-842a774480fe",
   "metadata": {},
   "outputs": [
    {
     "data": {
      "text/plain": [
       "0.8333333333333334"
      ]
     },
     "execution_count": 15,
     "metadata": {},
     "output_type": "execute_result"
    }
   ],
   "source": [
    "logreg_cv.score(X_test, Y_test)\n",
    "\n",
    "# lr=LogisticRegression(C=0.01, solver=\"lbfgs\", penalty=\"l2\")\n",
    "# lr.fit(X_train, Y_train)\n",
    "# lr.score(X_test, Y_test)"
   ]
  },
  {
   "cell_type": "markdown",
   "id": "ef7d820b-6494-448b-99da-ddee09fac04b",
   "metadata": {},
   "source": [
    "Lets look at the confusion matrix:\n"
   ]
  },
  {
   "cell_type": "code",
   "execution_count": 16,
   "id": "d12d8520-4f14-4cbf-af23-23893d3d8854",
   "metadata": {},
   "outputs": [
    {
     "data": {
      "image/png": "[encoded data removed]",
      "text/plain": [
       "<Figure size 576x432 with 2 Axes>"
      ]
     },
     "metadata": {
      "needs_background": "light"
     },
     "output_type": "display_data"
    }
   ],
   "source": [
    "yhat=logreg_cv.predict(X_test)\n",
    "plot_confusion_matrix(Y_test,yhat)"
   ]
  },
  {
   "cell_type": "markdown",
   "id": "6c4f7b4d-7cfb-4ff3-bf60-7b71da3a88c0",
   "metadata": {},
   "source": [
    "Examining the confusion matrix, we see that logistic regression can distinguish between the different classes.  We see that the major problem is false positives.\n"
   ]
  },
  {
   "cell_type": "markdown",
   "id": "93e8f80b-f9e9-43cc-8703-446e4032ce1a",
   "metadata": {},
   "source": [
    "## TASK  6\n"
   ]
  },
  {
   "cell_type": "markdown",
   "id": "c6f9fa64-44d6-4472-8d1b-e859ad3308a4",
   "metadata": {},
   "source": [
    "Create a support vector machine object then  create a  <code>GridSearchCV</code> object  <code>svm_cv</code> with cv - 10.  Fit the object to find the best parameters from the dictionary <code>parameters</code>.\n"
   ]
  },
  {
   "cell_type": "code",
   "execution_count": 17,
   "id": "642cfb6b-2c24-4d0d-96ad-e01809716b19",
   "metadata": {},
   "outputs": [],
   "source": [
    "parameters = {'kernel':('linear', 'rbf','poly','rbf', 'sigmoid'),\n",
    "              'C': np.logspace(-3, 3, 5),\n",
    "              'gamma':np.logspace(-3, 3, 5)}\n",
    "svm = SVC()"
   ]
  },
  {
   "cell_type": "code",
   "execution_count": 18,
   "id": "4ac8b9eb-801e-4596-bce7-fa7a980dd5ba",
   "metadata": {},
   "outputs": [
    {
     "data": {
      "text/plain": [
       "GridSearchCV(cv=10, estimator=SVC(),\n",
       "             param_grid={'C': array([1.00000000e-03, 3.16227766e-02, 1.00000000e+00, 3.16227766e+01,\n",
       "       1.00000000e+03]),\n",
       "                         'gamma': array([1.00000000e-03, 3.16227766e-02, 1.00000000e+00, 3.16227766e+01,\n",
       "       1.00000000e+03]),\n",
       "                         'kernel': ('linear', 'rbf', 'poly', 'rbf', 'sigmoid')})"
      ]
     },
     "execution_count": 18,
     "metadata": {},
     "output_type": "execute_result"
    }
   ],
   "source": [
    "svm_cv = GridSearchCV(svm, parameters, cv=10)\n",
    "svm_cv.fit(X_train, Y_train)"
   ]
  },
  {
   "cell_type": "code",
   "execution_count": 19,
   "id": "a017bdfd-1c68-4eec-9b88-6900d8971ced",
   "metadata": {},
   "outputs": [
    {
     "name": "stdout",
     "output_type": "stream",
     "text": [
      "tuned hpyerparameters :(best parameters)  {'C': 1.0, 'gamma': 0.03162277660168379, 'kernel': 'sigmoid'}\n",
      "accuracy : 0.8482142857142856\n"
     ]
    }
   ],
   "source": [
    "print(\"tuned hpyerparameters :(best parameters) \",svm_cv.best_params_)\n",
    "print(\"accuracy :\",svm_cv.best_score_)"
   ]
  },
  {
   "cell_type": "markdown",
   "id": "41b16eb3-b7ec-401d-a44a-1d2ab4638af0",
   "metadata": {},
   "source": [
    "## TASK  7\n"
   ]
  },
  {
   "cell_type": "markdown",
   "id": "97ce1130-daf0-4059-abcf-bdfcc15b5f0b",
   "metadata": {},
   "source": [
    "Calculate the accuracy on the test data using the method <code>score</code>:\n"
   ]
  },
  {
   "cell_type": "code",
   "execution_count": 20,
   "id": "865512ff-5cd0-4e12-a87f-deceb5ecf838",
   "metadata": {},
   "outputs": [
    {
     "data": {
      "text/plain": [
       "0.8333333333333334"
      ]
     },
     "execution_count": 20,
     "metadata": {},
     "output_type": "execute_result"
    }
   ],
   "source": [
    "svm_cv.score(X_test, Y_test)"
   ]
  },
  {
   "cell_type": "code",
   "execution_count": 21,
   "id": "7aedad55-850c-4383-b8d1-c2dc61895fe8",
   "metadata": {},
   "outputs": [
    {
     "data": {
      "text/plain": [
       "0.8333333333333334"
      ]
     },
     "execution_count": 21,
     "metadata": {},
     "output_type": "execute_result"
    }
   ],
   "source": [
    "svm = SVC(C=1.0, gamma=0.03162277660168379, kernel=\"sigmoid\")\n",
    "svm.fit(X_train, Y_train)\n",
    "svm.score(X_test, Y_test)"
   ]
  },
  {
   "cell_type": "markdown",
   "id": "7d52749c-ace1-4457-b304-f0e459a2d057",
   "metadata": {},
   "source": [
    "We can plot the confusion matrix\n"
   ]
  },
  {
   "cell_type": "code",
   "execution_count": 22,
   "id": "2f45fbab-8fcb-4973-9aef-d1980e5283c8",
   "metadata": {},
   "outputs": [
    {
     "data": {
      "image/png": "[encoded data removed]",
      "text/plain": [
       "<Figure size 576x432 with 2 Axes>"
      ]
     },
     "metadata": {
      "needs_background": "light"
     },
     "output_type": "display_data"
    }
   ],
   "source": [
    "yhat=svm_cv.predict(X_test)\n",
    "plot_confusion_matrix(Y_test,yhat)"
   ]
  },
  {
   "cell_type": "markdown",
   "id": "76e0b51a-3ccd-49d4-a214-6ef189aedc2f",
   "metadata": {},
   "source": [
    "## TASK  8\n"
   ]
  },
  {
   "cell_type": "markdown",
   "id": "1a136130-54e9-40d3-b775-758f69b30bf1",
   "metadata": {},
   "source": [
    "Create a decision tree classifier object then  create a  <code>GridSearchCV</code> object  <code>tree_cv</code> with cv = 10.  Fit the object to find the best parameters from the dictionary <code>parameters</code>.\n"
   ]
  },
  {
   "cell_type": "code",
   "execution_count": 23,
   "id": "d85a7713-82bc-4857-9a18-56f2f425abcc",
   "metadata": {},
   "outputs": [],
   "source": [
    "parameters = {'criterion': ['gini', 'entropy'],\n",
    "     'splitter': ['best', 'random'],\n",
    "     'max_depth': [2*n for n in range(1,10)],\n",
    "     'max_features': ['auto', 'sqrt'],\n",
    "     'min_samples_leaf': [1, 2, 4],\n",
    "     'min_samples_split': [2, 5, 10]}\n",
    "\n",
    "tree = DecisionTreeClassifier()"
   ]
  },
  {
   "cell_type": "code",
   "execution_count": 24,
   "id": "966e2a3f-d15a-4940-99cf-e9b3bc1b7df4",
   "metadata": {},
   "outputs": [],
   "source": [
    "tree_cv = GridSearchCV(tree, parameters, cv=10).fit(X_train, Y_train)"
   ]
  },
  {
   "cell_type": "code",
   "execution_count": 25,
   "id": "4c26b867-0f93-4713-bd7c-9bdef8dea18f",
   "metadata": {},
   "outputs": [
    {
     "name": "stdout",
     "output_type": "stream",
     "text": [
      "tuned hpyerparameters :(best parameters)  {'criterion': 'entropy', 'max_depth': 14, 'max_features': 'auto', 'min_samples_leaf': 4, 'min_samples_split': 5, 'splitter': 'best'}\n",
      "accuracy : 0.8892857142857142\n"
     ]
    }
   ],
   "source": [
    "print(\"tuned hpyerparameters :(best parameters) \",tree_cv.best_params_)\n",
    "print(\"accuracy :\",tree_cv.best_score_)"
   ]
  },
  {
   "cell_type": "markdown",
   "id": "1a845437-17f0-4bd4-8e9a-06f30ef827bf",
   "metadata": {},
   "source": [
    "## TASK  9\n"
   ]
  },
  {
   "cell_type": "markdown",
   "id": "60d92686-3013-45bf-9983-9bd33aa530f2",
   "metadata": {},
   "source": [
    "Calculate the accuracy of tree_cv on the test data using the method <code>score</code>:\n"
   ]
  },
  {
   "cell_type": "code",
   "execution_count": 26,
   "id": "55003514-94f0-459a-a6eb-093f1c5f9f05",
   "metadata": {},
   "outputs": [
    {
     "data": {
      "text/plain": [
       "0.8888888888888888"
      ]
     },
     "execution_count": 26,
     "metadata": {},
     "output_type": "execute_result"
    }
   ],
   "source": [
    "tree_cv.score(X_test, Y_test)"
   ]
  },
  {
   "cell_type": "markdown",
   "id": "78fb6d64-6239-4783-8974-23606d5754c0",
   "metadata": {},
   "source": [
    "We can plot the confusion matrix\n"
   ]
  },
  {
   "cell_type": "code",
   "execution_count": 27,
   "id": "c15ce013-6b4c-4723-9b04-7e60f23f6448",
   "metadata": {},
   "outputs": [
    {
     "data": {
      "image/png": "[encoded data removed]",
      "text/plain": [
       "<Figure size 576x432 with 2 Axes>"
      ]
     },
     "metadata": {
      "needs_background": "light"
     },
     "output_type": "display_data"
    }
   ],
   "source": [
    "yhat = tree_cv.predict(X_test)\n",
    "plot_confusion_matrix(Y_test, yhat)\n"
   ]
  },
  {
   "cell_type": "markdown",
   "id": "612dbb58-fb2f-47ee-a7bb-d77a00e6dbd3",
   "metadata": {},
   "source": [
    "## TASK  10\n"
   ]
  },
  {
   "cell_type": "markdown",
   "id": "a748cd07-5a39-4cda-809d-3cea906bd148",
   "metadata": {},
   "source": [
    "Create a k nearest neighbors object then  create a  <code>GridSearchCV</code> object  <code>knn_cv</code> with cv = 10.  Fit the object to find the best parameters from the dictionary <code>parameters</code>.\n"
   ]
  },
  {
   "cell_type": "code",
   "execution_count": 28,
   "id": "0cee22b2-bcf7-471e-96cf-e63302a47b52",
   "metadata": {},
   "outputs": [],
   "source": [
    "parameters = {'n_neighbors': [1, 2, 3, 4, 5, 6, 7, 8, 9, 10],\n",
    "              'algorithm': ['auto', 'ball_tree', 'kd_tree', 'brute'],\n",
    "              'p': [1,2]}\n",
    "\n",
    "knn = KNeighborsClassifier()"
   ]
  },
  {
   "cell_type": "code",
   "execution_count": 29,
   "id": "ffbaf94b-0b03-4094-84b6-f5233194434c",
   "metadata": {},
   "outputs": [],
   "source": [
    "knn_cv = GridSearchCV(knn, parameters, cv=10).fit(X_train, Y_train)"
   ]
  },
  {
   "cell_type": "code",
   "execution_count": 30,
   "id": "6309852d-7fb4-400f-b44a-1a3a04f03fba",
   "metadata": {},
   "outputs": [
    {
     "name": "stdout",
     "output_type": "stream",
     "text": [
      "tuned hpyerparameters :(best parameters)  {'algorithm': 'auto', 'n_neighbors': 10, 'p': 1}\n",
      "accuracy : 0.8482142857142858\n"
     ]
    }
   ],
   "source": [
    "print(\"tuned hpyerparameters :(best parameters) \",knn_cv.best_params_)\n",
    "print(\"accuracy :\",knn_cv.best_score_)"
   ]
  },
  {
   "cell_type": "markdown",
   "id": "98e9e899-25da-4c9b-99eb-b680c559ebda",
   "metadata": {},
   "source": [
    "## TASK  11\n"
   ]
  },
  {
   "cell_type": "markdown",
   "id": "9a20e83b-5c1b-440d-bba3-57c44a8605a6",
   "metadata": {},
   "source": [
    "Calculate the accuracy of knn_cv on the test data using the method <code>score</code>:\n"
   ]
  },
  {
   "cell_type": "code",
   "execution_count": 31,
   "id": "89196934-71d7-408d-9ff2-e99a934fb7de",
   "metadata": {},
   "outputs": [
    {
     "data": {
      "text/plain": [
       "0.8333333333333334"
      ]
     },
     "execution_count": 31,
     "metadata": {},
     "output_type": "execute_result"
    }
   ],
   "source": [
    "knn_cv.score(X_test, Y_test)"
   ]
  },
  {
   "cell_type": "markdown",
   "id": "a6cafe12-0a65-4cdc-8e44-67892989248e",
   "metadata": {},
   "source": [
    "We can plot the confusion matrix\n"
   ]
  },
  {
   "cell_type": "code",
   "execution_count": 32,
   "id": "7b021ac7-870a-445b-9459-021c9e78f745",
   "metadata": {
    "scrolled": true
   },
   "outputs": [
    {
     "data": {
      "image/png": "[encoded data removed]",
      "text/plain": [
       "<Figure size 576x432 with 2 Axes>"
      ]
     },
     "metadata": {
      "needs_background": "light"
     },
     "output_type": "display_data"
    }
   ],
   "source": [
    "yhat = knn_cv.predict(X_test)\n",
    "plot_confusion_matrix(Y_test,yhat)"
   ]
  },
  {
   "cell_type": "markdown",
   "id": "3a98ab95-6763-4bcc-ae98-d76fc1c0812b",
   "metadata": {},
   "source": [
    "## TASK  12\n"
   ]
  },
  {
   "cell_type": "markdown",
   "id": "965a2d1d-7ac3-458c-ba11-10f97d22e927",
   "metadata": {},
   "source": [
    "Find the method performs best:\n"
   ]
  },
  {
   "cell_type": "code",
   "execution_count": 95,
   "id": "7e2da33c-70ca-46ae-98a7-9ed8cdb4dabe",
   "metadata": {},
   "outputs": [
    {
     "data": {
      "text/html": [
       "<div>\n",
       "<style scoped>\n",
       "    .dataframe tbody tr th:only-of-type {\n",
       "        vertical-align: middle;\n",
       "    }\n",
       "\n",
       "    .dataframe tbody tr th {\n",
       "        vertical-align: top;\n",
       "    }\n",
       "\n",
       "    .dataframe thead th {\n",
       "        text-align: right;\n",
       "    }\n",
       "</style>\n",
       "<table border=\"1\" class=\"dataframe\">\n",
       "  <thead>\n",
       "    <tr style=\"text-align: right;\">\n",
       "      <th></th>\n",
       "      <th>Models</th>\n",
       "      <th>Accuracy</th>\n",
       "    </tr>\n",
       "  </thead>\n",
       "  <tbody>\n",
       "    <tr>\n",
       "      <th>0</th>\n",
       "      <td>LogReg</td>\n",
       "      <td>83.33</td>\n",
       "    </tr>\n",
       "    <tr>\n",
       "      <th>1</th>\n",
       "      <td>SVM</td>\n",
       "      <td>83.33</td>\n",
       "    </tr>\n",
       "    <tr>\n",
       "      <th>2</th>\n",
       "      <td>Decision Tree</td>\n",
       "      <td>88.89</td>\n",
       "    </tr>\n",
       "    <tr>\n",
       "      <th>3</th>\n",
       "      <td>KNN</td>\n",
       "      <td>83.33</td>\n",
       "    </tr>\n",
       "  </tbody>\n",
       "</table>\n",
       "</div>"
      ],
      "text/plain": [
       "          Models  Accuracy\n",
       "0         LogReg     83.33\n",
       "1            SVM     83.33\n",
       "2  Decision Tree     88.89\n",
       "3            KNN     83.33"
      ]
     },
     "execution_count": 95,
     "metadata": {},
     "output_type": "execute_result"
    }
   ],
   "source": [
    "method_scores = {\"Models\": ['LogReg', 'SVM', 'Decision Tree', 'KNN'],\n",
    "                 \"Accuracy\": [logreg_cv.score(X_test, Y_test), svm_cv.score(X_test, Y_test),\n",
    "                              tree_cv.score(X_test, Y_test), knn_cv.score(X_test, Y_test)],}\n",
    "df = pd.DataFrame(method_scores)\n",
    "df.Accuracy = df.Accuracy *100\n",
    "df = df.round(2)\n",
    "df"
   ]
  },
  {
   "cell_type": "code",
   "execution_count": 100,
   "id": "42dc11fe",
   "metadata": {},
   "outputs": [
    {
     "data": {
      "application/javascript": [
       "/* Put everything inside the global mpl namespace */\n",
       "/* global mpl */\n",
       "window.mpl = {};\n",
       "\n",
       "mpl.get_websocket_type = function () {\n",
       "    if (typeof WebSocket !== 'undefined') {\n",
       "        return WebSocket;\n",
       "    } else if (typeof MozWebSocket !== 'undefined') {\n",
       "        return MozWebSocket;\n",
       "    } else {\n",
       "        alert(\n",
       "            'Your browser does not have WebSocket support. ' +\n",
       "                'Please try Chrome, Safari or Firefox ≥ 6. ' +\n",
       "                'Firefox 4 and 5 are also supported but you ' +\n",
       "                'have to enable WebSockets in about:config.'\n",
       "        );\n",
       "    }\n",
       "};\n",
       "\n",
       "mpl.figure = function (figure_id, websocket, ondownload, parent_element) {\n",
       "    this.id = figure_id;\n",
       "\n",
       "    this.ws = websocket;\n",
       "\n",
       "    this.supports_binary = this.ws.binaryType !== undefined;\n",
       "\n",
       "    if (!this.supports_binary) {\n",
       "        var warnings = document.getElementById('mpl-warnings');\n",
       "        if (warnings) {\n",
       "            warnings.style.display = 'block';\n",
       "            warnings.textContent =\n",
       "                'This browser does not support binary websocket messages. ' +\n",
       "                'Performance may be slow.';\n",
       "        }\n",
       "    }\n",
       "\n",
       "    this.imageObj = new Image();\n",
       "\n",
       "    this.context = undefined;\n",
       "    this.message = undefined;\n",
       "    this.canvas = undefined;\n",
       "    this.rubberband_canvas = undefined;\n",
       "    this.rubberband_context = undefined;\n",
       "    this.format_dropdown = undefined;\n",
       "\n",
       "    this.image_mode = 'full';\n",
       "\n",
       "    this.root = document.createElement('div');\n",
       "    this.root.setAttribute('style', 'display: inline-block');\n",
       "    this._root_extra_style(this.root);\n",
       "\n",
       "    parent_element.appendChild(this.root);\n",
       "\n",
       "    this._init_header(this);\n",
       "    this._init_canvas(this);\n",
       "    this._init_toolbar(this);\n",
       "\n",
       "    var fig = this;\n",
       "\n",
       "    this.waiting = false;\n",
       "\n",
       "    this.ws.onopen = function () {\n",
       "        fig.send_message('supports_binary', { value: fig.supports_binary });\n",
       "        fig.send_message('send_image_mode', {});\n",
       "        if (fig.ratio !== 1) {\n",
       "            fig.send_message('set_dpi_ratio', { dpi_ratio: fig.ratio });\n",
       "        }\n",
       "        fig.send_message('refresh', {});\n",
       "    };\n",
       "\n",
       "    this.imageObj.onload = function () {\n",
       "        if (fig.image_mode === 'full') {\n",
       "            // Full images could contain transparency (where diff images\n",
       "            // almost always do), so we need to clear the canvas so that\n",
       "            // there is no ghosting.\n",
       "            fig.context.clearRect(0, 0, fig.canvas.width, fig.canvas.height);\n",
       "        }\n",
       "        fig.context.drawImage(fig.imageObj, 0, 0);\n",
       "    };\n",
       "\n",
       "    this.imageObj.onunload = function () {\n",
       "        fig.ws.close();\n",
       "    };\n",
       "\n",
       "    this.ws.onmessage = this._make_on_message_function(this);\n",
       "\n",
       "    this.ondownload = ondownload;\n",
       "};\n",
       "\n",
       "mpl.figure.prototype._init_header = function () {\n",
       "    var titlebar = document.createElement('div');\n",
       "    titlebar.classList =\n",
       "        'ui-dialog-titlebar ui-widget-header ui-corner-all ui-helper-clearfix';\n",
       "    var titletext = document.createElement('div');\n",
       "    titletext.classList = 'ui-dialog-title';\n",
       "    titletext.setAttribute(\n",
       "        'style',\n",
       "        'width: 100%; text-align: center; padding: 3px;'\n",
       "    );\n",
       "    titlebar.appendChild(titletext);\n",
       "    this.root.appendChild(titlebar);\n",
       "    this.header = titletext;\n",
       "};\n",
       "\n",
       "mpl.figure.prototype._canvas_extra_style = function (_canvas_div) {};\n",
       "\n",
       "mpl.figure.prototype._root_extra_style = function (_canvas_div) {};\n",
       "\n",
       "mpl.figure.prototype._init_canvas = function () {\n",
       "    var fig = this;\n",
       "\n",
       "    var canvas_div = (this.canvas_div = document.createElement('div'));\n",
       "    canvas_div.setAttribute(\n",
       "        'style',\n",
       "        'border: 1px solid #ddd;' +\n",
       "            'box-sizing: content-box;' +\n",
       "            'clear: both;' +\n",
       "            'min-height: 1px;' +\n",
       "            'min-width: 1px;' +\n",
       "            'outline: 0;' +\n",
       "            'overflow: hidden;' +\n",
       "            'position: relative;' +\n",
       "            'resize: both;'\n",
       "    );\n",
       "\n",
       "    function on_keyboard_event_closure(name) {\n",
       "        return function (event) {\n",
       "            return fig.key_event(event, name);\n",
       "        };\n",
       "    }\n",
       "\n",
       "    canvas_div.addEventListener(\n",
       "        'keydown',\n",
       "        on_keyboard_event_closure('key_press')\n",
       "    );\n",
       "    canvas_div.addEventListener(\n",
       "        'keyup',\n",
       "        on_keyboard_event_closure('key_release')\n",
       "    );\n",
       "\n",
       "    this._canvas_extra_style(canvas_div);\n",
       "    this.root.appendChild(canvas_div);\n",
       "\n",
       "    var canvas = (this.canvas = document.createElement('canvas'));\n",
       "    canvas.classList.add('mpl-canvas');\n",
       "    canvas.setAttribute('style', 'box-sizing: content-box;');\n",
       "\n",
       "    this.context = canvas.getContext('2d');\n",
       "\n",
       "    var backingStore =\n",
       "        this.context.backingStorePixelRatio ||\n",
       "        this.context.webkitBackingStorePixelRatio ||\n",
       "        this.context.mozBackingStorePixelRatio ||\n",
       "        this.context.msBackingStorePixelRatio ||\n",
       "        this.context.oBackingStorePixelRatio ||\n",
       "        this.context.backingStorePixelRatio ||\n",
       "        1;\n",
       "\n",
       "    this.ratio = (window.devicePixelRatio || 1) / backingStore;\n",
       "\n",
       "    var rubberband_canvas = (this.rubberband_canvas = document.createElement(\n",
       "        'canvas'\n",
       "    ));\n",
       "    rubberband_canvas.setAttribute(\n",
       "        'style',\n",
       "        'box-sizing: content-box; position: absolute; left: 0; top: 0; z-index: 1;'\n",
       "    );\n",
       "\n",
       "    // Apply a ponyfill if ResizeObserver is not implemented by browser.\n",
       "    if (this.ResizeObserver === undefined) {\n",
       "        if (window.ResizeObserver !== undefined) {\n",
       "            this.ResizeObserver = window.ResizeObserver;\n",
       "        } else {\n",
       "            var obs = _JSXTOOLS_RESIZE_OBSERVER({});\n",
       "            this.ResizeObserver = obs.ResizeObserver;\n",
       "        }\n",
       "    }\n",
       "\n",
       "    this.resizeObserverInstance = new this.ResizeObserver(function (entries) {\n",
       "        var nentries = entries.length;\n",
       "        for (var i = 0; i < nentries; i++) {\n",
       "            var entry = entries[i];\n",
       "            var width, height;\n",
       "            if (entry.contentBoxSize) {\n",
       "                if (entry.contentBoxSize instanceof Array) {\n",
       "                    // Chrome 84 implements new version of spec.\n",
       "                    width = entry.contentBoxSize[0].inlineSize;\n",
       "                    height = entry.contentBoxSize[0].blockSize;\n",
       "                } else {\n",
       "                    // Firefox implements old version of spec.\n",
       "                    width = entry.contentBoxSize.inlineSize;\n",
       "                    height = entry.contentBoxSize.blockSize;\n",
       "                }\n",
       "            } else {\n",
       "                // Chrome <84 implements even older version of spec.\n",
       "                width = entry.contentRect.width;\n",
       "                height = entry.contentRect.height;\n",
       "            }\n",
       "\n",
       "            // Keep the size of the canvas and rubber band canvas in sync with\n",
       "            // the canvas container.\n",
       "            if (entry.devicePixelContentBoxSize) {\n",
       "                // Chrome 84 implements new version of spec.\n",
       "                canvas.setAttribute(\n",
       "                    'width',\n",
       "                    entry.devicePixelContentBoxSize[0].inlineSize\n",
       "                );\n",
       "                canvas.setAttribute(\n",
       "                    'height',\n",
       "                    entry.devicePixelContentBoxSize[0].blockSize\n",
       "                );\n",
       "            } else {\n",
       "                canvas.setAttribute('width', width * fig.ratio);\n",
       "                canvas.setAttribute('height', height * fig.ratio);\n",
       "            }\n",
       "            canvas.setAttribute(\n",
       "                'style',\n",
       "                'width: ' + width + 'px; height: ' + height + 'px;'\n",
       "            );\n",
       "\n",
       "            rubberband_canvas.setAttribute('width', width);\n",
       "            rubberband_canvas.setAttribute('height', height);\n",
       "\n",
       "            // And update the size in Python. We ignore the initial 0/0 size\n",
       "            // that occurs as the element is placed into the DOM, which should\n",
       "            // otherwise not happen due to the minimum size styling.\n",
       "            if (fig.ws.readyState == 1 && width != 0 && height != 0) {\n",
       "                fig.request_resize(width, height);\n",
       "            }\n",
       "        }\n",
       "    });\n",
       "    this.resizeObserverInstance.observe(canvas_div);\n",
       "\n",
       "    function on_mouse_event_closure(name) {\n",
       "        return function (event) {\n",
       "            return fig.mouse_event(event, name);\n",
       "        };\n",
       "    }\n",
       "\n",
       "    rubberband_canvas.addEventListener(\n",
       "        'mousedown',\n",
       "        on_mouse_event_closure('button_press')\n",
       "    );\n",
       "    rubberband_canvas.addEventListener(\n",
       "        'mouseup',\n",
       "        on_mouse_event_closure('button_release')\n",
       "    );\n",
       "    rubberband_canvas.addEventListener(\n",
       "        'dblclick',\n",
       "        on_mouse_event_closure('dblclick')\n",
       "    );\n",
       "    // Throttle sequential mouse events to 1 every 20ms.\n",
       "    rubberband_canvas.addEventListener(\n",
       "        'mousemove',\n",
       "        on_mouse_event_closure('motion_notify')\n",
       "    );\n",
       "\n",
       "    rubberband_canvas.addEventListener(\n",
       "        'mouseenter',\n",
       "        on_mouse_event_closure('figure_enter')\n",
       "    );\n",
       "    rubberband_canvas.addEventListener(\n",
       "        'mouseleave',\n",
       "        on_mouse_event_closure('figure_leave')\n",
       "    );\n",
       "\n",
       "    canvas_div.addEventListener('wheel', function (event) {\n",
       "        if (event.deltaY < 0) {\n",
       "            event.step = 1;\n",
       "        } else {\n",
       "            event.step = -1;\n",
       "        }\n",
       "        on_mouse_event_closure('scroll')(event);\n",
       "    });\n",
       "\n",
       "    canvas_div.appendChild(canvas);\n",
       "    canvas_div.appendChild(rubberband_canvas);\n",
       "\n",
       "    this.rubberband_context = rubberband_canvas.getContext('2d');\n",
       "    this.rubberband_context.strokeStyle = '#000000';\n",
       "\n",
       "    this._resize_canvas = function (width, height, forward) {\n",
       "        if (forward) {\n",
       "            canvas_div.style.width = width + 'px';\n",
       "            canvas_div.style.height = height + 'px';\n",
       "        }\n",
       "    };\n",
       "\n",
       "    // Disable right mouse context menu.\n",
       "    this.rubberband_canvas.addEventListener('contextmenu', function (_e) {\n",
       "        event.preventDefault();\n",
       "        return false;\n",
       "    });\n",
       "\n",
       "    function set_focus() {\n",
       "        canvas.focus();\n",
       "        canvas_div.focus();\n",
       "    }\n",
       "\n",
       "    window.setTimeout(set_focus, 100);\n",
       "};\n",
       "\n",
       "mpl.figure.prototype._init_toolbar = function () {\n",
       "    var fig = this;\n",
       "\n",
       "    var toolbar = document.createElement('div');\n",
       "    toolbar.classList = 'mpl-toolbar';\n",
       "    this.root.appendChild(toolbar);\n",
       "\n",
       "    function on_click_closure(name) {\n",
       "        return function (_event) {\n",
       "            return fig.toolbar_button_onclick(name);\n",
       "        };\n",
       "    }\n",
       "\n",
       "    function on_mouseover_closure(tooltip) {\n",
       "        return function (event) {\n",
       "            if (!event.currentTarget.disabled) {\n",
       "                return fig.toolbar_button_onmouseover(tooltip);\n",
       "            }\n",
       "        };\n",
       "    }\n",
       "\n",
       "    fig.buttons = {};\n",
       "    var buttonGroup = document.createElement('div');\n",
       "    buttonGroup.classList = 'mpl-button-group';\n",
       "    for (var toolbar_ind in mpl.toolbar_items) {\n",
       "        var name = mpl.toolbar_items[toolbar_ind][0];\n",
       "        var tooltip = mpl.toolbar_items[toolbar_ind][1];\n",
       "        var image = mpl.toolbar_items[toolbar_ind][2];\n",
       "        var method_name = mpl.toolbar_items[toolbar_ind][3];\n",
       "\n",
       "        if (!name) {\n",
       "            /* Instead of a spacer, we start a new button group. */\n",
       "            if (buttonGroup.hasChildNodes()) {\n",
       "                toolbar.appendChild(buttonGroup);\n",
       "            }\n",
       "            buttonGroup = document.createElement('div');\n",
       "            buttonGroup.classList = 'mpl-button-group';\n",
       "            continue;\n",
       "        }\n",
       "\n",
       "        var button = (fig.buttons[name] = document.createElement('button'));\n",
       "        button.classList = 'mpl-widget';\n",
       "        button.setAttribute('role', 'button');\n",
       "        button.setAttribute('aria-disabled', 'false');\n",
       "        button.addEventListener('click', on_click_closure(method_name));\n",
       "        button.addEventListener('mouseover', on_mouseover_closure(tooltip));\n",
       "\n",
       "        var icon_img = document.createElement('img');\n",
       "        icon_img.src = '_images/' + image + '.png';\n",
       "        icon_img.srcset = '_images/' + image + '_large.png 2x';\n",
       "        icon_img.alt = tooltip;\n",
       "        button.appendChild(icon_img);\n",
       "\n",
       "        buttonGroup.appendChild(button);\n",
       "    }\n",
       "\n",
       "    if (buttonGroup.hasChildNodes()) {\n",
       "        toolbar.appendChild(buttonGroup);\n",
       "    }\n",
       "\n",
       "    var fmt_picker = document.createElement('select');\n",
       "    fmt_picker.classList = 'mpl-widget';\n",
       "    toolbar.appendChild(fmt_picker);\n",
       "    this.format_dropdown = fmt_picker;\n",
       "\n",
       "    for (var ind in mpl.extensions) {\n",
       "        var fmt = mpl.extensions[ind];\n",
       "        var option = document.createElement('option');\n",
       "        option.selected = fmt === mpl.default_extension;\n",
       "        option.innerHTML = fmt;\n",
       "        fmt_picker.appendChild(option);\n",
       "    }\n",
       "\n",
       "    var status_bar = document.createElement('span');\n",
       "    status_bar.classList = 'mpl-message';\n",
       "    toolbar.appendChild(status_bar);\n",
       "    this.message = status_bar;\n",
       "};\n",
       "\n",
       "mpl.figure.prototype.request_resize = function (x_pixels, y_pixels) {\n",
       "    // Request matplotlib to resize the figure. Matplotlib will then trigger a resize in the client,\n",
       "    // which will in turn request a refresh of the image.\n",
       "    this.send_message('resize', { width: x_pixels, height: y_pixels });\n",
       "};\n",
       "\n",
       "mpl.figure.prototype.send_message = function (type, properties) {\n",
       "    properties['type'] = type;\n",
       "    properties['figure_id'] = this.id;\n",
       "    this.ws.send(JSON.stringify(properties));\n",
       "};\n",
       "\n",
       "mpl.figure.prototype.send_draw_message = function () {\n",
       "    if (!this.waiting) {\n",
       "        this.waiting = true;\n",
       "        this.ws.send(JSON.stringify({ type: 'draw', figure_id: this.id }));\n",
       "    }\n",
       "};\n",
       "\n",
       "mpl.figure.prototype.handle_save = function (fig, _msg) {\n",
       "    var format_dropdown = fig.format_dropdown;\n",
       "    var format = format_dropdown.options[format_dropdown.selectedIndex].value;\n",
       "    fig.ondownload(fig, format);\n",
       "};\n",
       "\n",
       "mpl.figure.prototype.handle_resize = function (fig, msg) {\n",
       "    var size = msg['size'];\n",
       "    if (size[0] !== fig.canvas.width || size[1] !== fig.canvas.height) {\n",
       "        fig._resize_canvas(size[0], size[1], msg['forward']);\n",
       "        fig.send_message('refresh', {});\n",
       "    }\n",
       "};\n",
       "\n",
       "mpl.figure.prototype.handle_rubberband = function (fig, msg) {\n",
       "    var x0 = msg['x0'] / fig.ratio;\n",
       "    var y0 = (fig.canvas.height - msg['y0']) / fig.ratio;\n",
       "    var x1 = msg['x1'] / fig.ratio;\n",
       "    var y1 = (fig.canvas.height - msg['y1']) / fig.ratio;\n",
       "    x0 = Math.floor(x0) + 0.5;\n",
       "    y0 = Math.floor(y0) + 0.5;\n",
       "    x1 = Math.floor(x1) + 0.5;\n",
       "    y1 = Math.floor(y1) + 0.5;\n",
       "    var min_x = Math.min(x0, x1);\n",
       "    var min_y = Math.min(y0, y1);\n",
       "    var width = Math.abs(x1 - x0);\n",
       "    var height = Math.abs(y1 - y0);\n",
       "\n",
       "    fig.rubberband_context.clearRect(\n",
       "        0,\n",
       "        0,\n",
       "        fig.canvas.width / fig.ratio,\n",
       "        fig.canvas.height / fig.ratio\n",
       "    );\n",
       "\n",
       "    fig.rubberband_context.strokeRect(min_x, min_y, width, height);\n",
       "};\n",
       "\n",
       "mpl.figure.prototype.handle_figure_label = function (fig, msg) {\n",
       "    // Updates the figure title.\n",
       "    fig.header.textContent = msg['label'];\n",
       "};\n",
       "\n",
       "mpl.figure.prototype.handle_cursor = function (fig, msg) {\n",
       "    var cursor = msg['cursor'];\n",
       "    switch (cursor) {\n",
       "        case 0:\n",
       "            cursor = 'pointer';\n",
       "            break;\n",
       "        case 1:\n",
       "            cursor = 'default';\n",
       "            break;\n",
       "        case 2:\n",
       "            cursor = 'crosshair';\n",
       "            break;\n",
       "        case 3:\n",
       "            cursor = 'move';\n",
       "            break;\n",
       "    }\n",
       "    fig.rubberband_canvas.style.cursor = cursor;\n",
       "};\n",
       "\n",
       "mpl.figure.prototype.handle_message = function (fig, msg) {\n",
       "    fig.message.textContent = msg['message'];\n",
       "};\n",
       "\n",
       "mpl.figure.prototype.handle_draw = function (fig, _msg) {\n",
       "    // Request the server to send over a new figure.\n",
       "    fig.send_draw_message();\n",
       "};\n",
       "\n",
       "mpl.figure.prototype.handle_image_mode = function (fig, msg) {\n",
       "    fig.image_mode = msg['mode'];\n",
       "};\n",
       "\n",
       "mpl.figure.prototype.handle_history_buttons = function (fig, msg) {\n",
       "    for (var key in msg) {\n",
       "        if (!(key in fig.buttons)) {\n",
       "            continue;\n",
       "        }\n",
       "        fig.buttons[key].disabled = !msg[key];\n",
       "        fig.buttons[key].setAttribute('aria-disabled', !msg[key]);\n",
       "    }\n",
       "};\n",
       "\n",
       "mpl.figure.prototype.handle_navigate_mode = function (fig, msg) {\n",
       "    if (msg['mode'] === 'PAN') {\n",
       "        fig.buttons['Pan'].classList.add('active');\n",
       "        fig.buttons['Zoom'].classList.remove('active');\n",
       "    } else if (msg['mode'] === 'ZOOM') {\n",
       "        fig.buttons['Pan'].classList.remove('active');\n",
       "        fig.buttons['Zoom'].classList.add('active');\n",
       "    } else {\n",
       "        fig.buttons['Pan'].classList.remove('active');\n",
       "        fig.buttons['Zoom'].classList.remove('active');\n",
       "    }\n",
       "};\n",
       "\n",
       "mpl.figure.prototype.updated_canvas_event = function () {\n",
       "    // Called whenever the canvas gets updated.\n",
       "    this.send_message('ack', {});\n",
       "};\n",
       "\n",
       "// A function to construct a web socket function for onmessage handling.\n",
       "// Called in the figure constructor.\n",
       "mpl.figure.prototype._make_on_message_function = function (fig) {\n",
       "    return function socket_on_message(evt) {\n",
       "        if (evt.data instanceof Blob) {\n",
       "            var img = evt.data;\n",
       "            if (img.type !== 'image/png') {\n",
       "                /* FIXME: We get \"Resource interpreted as Image but\n",
       "                 * transferred with MIME type text/plain:\" errors on\n",
       "                 * Chrome.  But how to set the MIME type?  It doesn't seem\n",
       "                 * to be part of the websocket stream */\n",
       "                img.type = 'image/png';\n",
       "            }\n",
       "\n",
       "            /* Free the memory for the previous frames */\n",
       "            if (fig.imageObj.src) {\n",
       "                (window.URL || window.webkitURL).revokeObjectURL(\n",
       "                    fig.imageObj.src\n",
       "                );\n",
       "            }\n",
       "\n",
       "            fig.imageObj.src = (window.URL || window.webkitURL).createObjectURL(\n",
       "                img\n",
       "            );\n",
       "            fig.updated_canvas_event();\n",
       "            fig.waiting = false;\n",
       "            return;\n",
       "        } else if (\n",
       "            typeof evt.data === 'string' &&\n",
       "            evt.data.slice(0, 21) === 'data:image/png;base64'\n",
       "        ) {\n",
       "            fig.imageObj.src = evt.data;\n",
       "            fig.updated_canvas_event();\n",
       "            fig.waiting = false;\n",
       "            return;\n",
       "        }\n",
       "\n",
       "        var msg = JSON.parse(evt.data);\n",
       "        var msg_type = msg['type'];\n",
       "\n",
       "        // Call the  \"handle_{type}\" callback, which takes\n",
       "        // the figure and JSON message as its only arguments.\n",
       "        try {\n",
       "            var callback = fig['handle_' + msg_type];\n",
       "        } catch (e) {\n",
       "            console.log(\n",
       "                \"No handler for the '\" + msg_type + \"' message type: \",\n",
       "                msg\n",
       "            );\n",
       "            return;\n",
       "        }\n",
       "\n",
       "        if (callback) {\n",
       "            try {\n",
       "                // console.log(\"Handling '\" + msg_type + \"' message: \", msg);\n",
       "                callback(fig, msg);\n",
       "            } catch (e) {\n",
       "                console.log(\n",
       "                    \"Exception inside the 'handler_\" + msg_type + \"' callback:\",\n",
       "                    e,\n",
       "                    e.stack,\n",
       "                    msg\n",
       "                );\n",
       "            }\n",
       "        }\n",
       "    };\n",
       "};\n",
       "\n",
       "// from http://stackoverflow.com/questions/1114465/getting-mouse-location-in-canvas\n",
       "mpl.findpos = function (e) {\n",
       "    //this section is from http://www.quirksmode.org/js/events_properties.html\n",
       "    var targ;\n",
       "    if (!e) {\n",
       "        e = window.event;\n",
       "    }\n",
       "    if (e.target) {\n",
       "        targ = e.target;\n",
       "    } else if (e.srcElement) {\n",
       "        targ = e.srcElement;\n",
       "    }\n",
       "    if (targ.nodeType === 3) {\n",
       "        // defeat Safari bug\n",
       "        targ = targ.parentNode;\n",
       "    }\n",
       "\n",
       "    // pageX,Y are the mouse positions relative to the document\n",
       "    var boundingRect = targ.getBoundingClientRect();\n",
       "    var x = e.pageX - (boundingRect.left + document.body.scrollLeft);\n",
       "    var y = e.pageY - (boundingRect.top + document.body.scrollTop);\n",
       "\n",
       "    return { x: x, y: y };\n",
       "};\n",
       "\n",
       "/*\n",
       " * return a copy of an object with only non-object keys\n",
       " * we need this to avoid circular references\n",
       " * http://stackoverflow.com/a/24161582/3208463\n",
       " */\n",
       "function simpleKeys(original) {\n",
       "    return Object.keys(original).reduce(function (obj, key) {\n",
       "        if (typeof original[key] !== 'object') {\n",
       "            obj[key] = original[key];\n",
       "        }\n",
       "        return obj;\n",
       "    }, {});\n",
       "}\n",
       "\n",
       "mpl.figure.prototype.mouse_event = function (event, name) {\n",
       "    var canvas_pos = mpl.findpos(event);\n",
       "\n",
       "    if (name === 'button_press') {\n",
       "        this.canvas.focus();\n",
       "        this.canvas_div.focus();\n",
       "    }\n",
       "\n",
       "    var x = canvas_pos.x * this.ratio;\n",
       "    var y = canvas_pos.y * this.ratio;\n",
       "\n",
       "    this.send_message(name, {\n",
       "        x: x,\n",
       "        y: y,\n",
       "        button: event.button,\n",
       "        step: event.step,\n",
       "        guiEvent: simpleKeys(event),\n",
       "    });\n",
       "\n",
       "    /* This prevents the web browser from automatically changing to\n",
       "     * the text insertion cursor when the button is pressed.  We want\n",
       "     * to control all of the cursor setting manually through the\n",
       "     * 'cursor' event from matplotlib */\n",
       "    event.preventDefault();\n",
       "    return false;\n",
       "};\n",
       "\n",
       "mpl.figure.prototype._key_event_extra = function (_event, _name) {\n",
       "    // Handle any extra behaviour associated with a key event\n",
       "};\n",
       "\n",
       "mpl.figure.prototype.key_event = function (event, name) {\n",
       "    // Prevent repeat events\n",
       "    if (name === 'key_press') {\n",
       "        if (event.key === this._key) {\n",
       "            return;\n",
       "        } else {\n",
       "            this._key = event.key;\n",
       "        }\n",
       "    }\n",
       "    if (name === 'key_release') {\n",
       "        this._key = null;\n",
       "    }\n",
       "\n",
       "    var value = '';\n",
       "    if (event.ctrlKey && event.key !== 'Control') {\n",
       "        value += 'ctrl+';\n",
       "    }\n",
       "    else if (event.altKey && event.key !== 'Alt') {\n",
       "        value += 'alt+';\n",
       "    }\n",
       "    else if (event.shiftKey && event.key !== 'Shift') {\n",
       "        value += 'shift+';\n",
       "    }\n",
       "\n",
       "    value += 'k' + event.key;\n",
       "\n",
       "    this._key_event_extra(event, name);\n",
       "\n",
       "    this.send_message(name, { key: value, guiEvent: simpleKeys(event) });\n",
       "    return false;\n",
       "};\n",
       "\n",
       "mpl.figure.prototype.toolbar_button_onclick = function (name) {\n",
       "    if (name === 'download') {\n",
       "        this.handle_save(this, null);\n",
       "    } else {\n",
       "        this.send_message('toolbar_button', { name: name });\n",
       "    }\n",
       "};\n",
       "\n",
       "mpl.figure.prototype.toolbar_button_onmouseover = function (tooltip) {\n",
       "    this.message.textContent = tooltip;\n",
       "};\n",
       "\n",
       "///////////////// REMAINING CONTENT GENERATED BY embed_js.py /////////////////\n",
       "// prettier-ignore\n",
       "var _JSXTOOLS_RESIZE_OBSERVER=function(A){var t,i=new WeakMap,n=new WeakMap,a=new WeakMap,r=new WeakMap,o=new Set;function s(e){if(!(this instanceof s))throw new TypeError(\"Constructor requires 'new' operator\");i.set(this,e)}function h(){throw new TypeError(\"Function is not a constructor\")}function c(e,t,i,n){e=0 in arguments?Number(arguments[0]):0,t=1 in arguments?Number(arguments[1]):0,i=2 in arguments?Number(arguments[2]):0,n=3 in arguments?Number(arguments[3]):0,this.right=(this.x=this.left=e)+(this.width=i),this.bottom=(this.y=this.top=t)+(this.height=n),Object.freeze(this)}function d(){t=requestAnimationFrame(d);var s=new WeakMap,p=new Set;o.forEach((function(t){r.get(t).forEach((function(i){var r=t instanceof window.SVGElement,o=a.get(t),d=r?0:parseFloat(o.paddingTop),f=r?0:parseFloat(o.paddingRight),l=r?0:parseFloat(o.paddingBottom),u=r?0:parseFloat(o.paddingLeft),g=r?0:parseFloat(o.borderTopWidth),m=r?0:parseFloat(o.borderRightWidth),w=r?0:parseFloat(o.borderBottomWidth),b=u+f,F=d+l,v=(r?0:parseFloat(o.borderLeftWidth))+m,W=g+w,y=r?0:t.offsetHeight-W-t.clientHeight,E=r?0:t.offsetWidth-v-t.clientWidth,R=b+v,z=F+W,M=r?t.width:parseFloat(o.width)-R-E,O=r?t.height:parseFloat(o.height)-z-y;if(n.has(t)){var k=n.get(t);if(k[0]===M&&k[1]===O)return}n.set(t,[M,O]);var S=Object.create(h.prototype);S.target=t,S.contentRect=new c(u,d,M,O),s.has(i)||(s.set(i,[]),p.add(i)),s.get(i).push(S)}))})),p.forEach((function(e){i.get(e).call(e,s.get(e),e)}))}return s.prototype.observe=function(i){if(i instanceof window.Element){r.has(i)||(r.set(i,new Set),o.add(i),a.set(i,window.getComputedStyle(i)));var n=r.get(i);n.has(this)||n.add(this),cancelAnimationFrame(t),t=requestAnimationFrame(d)}},s.prototype.unobserve=function(i){if(i instanceof window.Element&&r.has(i)){var n=r.get(i);n.has(this)&&(n.delete(this),n.size||(r.delete(i),o.delete(i))),n.size||r.delete(i),o.size||cancelAnimationFrame(t)}},A.DOMRectReadOnly=c,A.ResizeObserver=s,A.ResizeObserverEntry=h,A}; // eslint-disable-line\n",
       "mpl.toolbar_items = [[\"Home\", \"Reset original view\", \"fa fa-home icon-home\", \"home\"], [\"Back\", \"Back to previous view\", \"fa fa-arrow-left icon-arrow-left\", \"back\"], [\"Forward\", \"Forward to next view\", \"fa fa-arrow-right icon-arrow-right\", \"forward\"], [\"\", \"\", \"\", \"\"], [\"Pan\", \"Left button pans, Right button zooms\\nx/y fixes axis, CTRL fixes aspect\", \"fa fa-arrows icon-move\", \"pan\"], [\"Zoom\", \"Zoom to rectangle\\nx/y fixes axis, CTRL fixes aspect\", \"fa fa-square-o icon-check-empty\", \"zoom\"], [\"\", \"\", \"\", \"\"], [\"Download\", \"Download plot\", \"fa fa-floppy-o icon-save\", \"download\"]];\n",
       "\n",
       "mpl.extensions = [\"eps\", \"jpeg\", \"pgf\", \"pdf\", \"png\", \"ps\", \"raw\", \"svg\", \"tif\"];\n",
       "\n",
       "mpl.default_extension = \"png\";/* global mpl */\n",
       "\n",
       "var comm_websocket_adapter = function (comm) {\n",
       "    // Create a \"websocket\"-like object which calls the given IPython comm\n",
       "    // object with the appropriate methods. Currently this is a non binary\n",
       "    // socket, so there is still some room for performance tuning.\n",
       "    var ws = {};\n",
       "\n",
       "    ws.binaryType = comm.kernel.ws.binaryType;\n",
       "    ws.readyState = comm.kernel.ws.readyState;\n",
       "    function updateReadyState(_event) {\n",
       "        if (comm.kernel.ws) {\n",
       "            ws.readyState = comm.kernel.ws.readyState;\n",
       "        } else {\n",
       "            ws.readyState = 3; // Closed state.\n",
       "        }\n",
       "    }\n",
       "    comm.kernel.ws.addEventListener('open', updateReadyState);\n",
       "    comm.kernel.ws.addEventListener('close', updateReadyState);\n",
       "    comm.kernel.ws.addEventListener('error', updateReadyState);\n",
       "\n",
       "    ws.close = function () {\n",
       "        comm.close();\n",
       "    };\n",
       "    ws.send = function (m) {\n",
       "        //console.log('sending', m);\n",
       "        comm.send(m);\n",
       "    };\n",
       "    // Register the callback with on_msg.\n",
       "    comm.on_msg(function (msg) {\n",
       "        //console.log('receiving', msg['content']['data'], msg);\n",
       "        var data = msg['content']['data'];\n",
       "        if (data['blob'] !== undefined) {\n",
       "            data = {\n",
       "                data: new Blob(msg['buffers'], { type: data['blob'] }),\n",
       "            };\n",
       "        }\n",
       "        // Pass the mpl event to the overridden (by mpl) onmessage function.\n",
       "        ws.onmessage(data);\n",
       "    });\n",
       "    return ws;\n",
       "};\n",
       "\n",
       "mpl.mpl_figure_comm = function (comm, msg) {\n",
       "    // This is the function which gets called when the mpl process\n",
       "    // starts-up an IPython Comm through the \"matplotlib\" channel.\n",
       "\n",
       "    var id = msg.content.data.id;\n",
       "    // Get hold of the div created by the display call when the Comm\n",
       "    // socket was opened in Python.\n",
       "    var element = document.getElementById(id);\n",
       "    var ws_proxy = comm_websocket_adapter(comm);\n",
       "\n",
       "    function ondownload(figure, _format) {\n",
       "        window.open(figure.canvas.toDataURL());\n",
       "    }\n",
       "\n",
       "    var fig = new mpl.figure(id, ws_proxy, ondownload, element);\n",
       "\n",
       "    // Call onopen now - mpl needs it, as it is assuming we've passed it a real\n",
       "    // web socket which is closed, not our websocket->open comm proxy.\n",
       "    ws_proxy.onopen();\n",
       "\n",
       "    fig.parent_element = element;\n",
       "    fig.cell_info = mpl.find_output_cell(\"<div id='\" + id + \"'></div>\");\n",
       "    if (!fig.cell_info) {\n",
       "        console.error('Failed to find cell for figure', id, fig);\n",
       "        return;\n",
       "    }\n",
       "    fig.cell_info[0].output_area.element.on(\n",
       "        'cleared',\n",
       "        { fig: fig },\n",
       "        fig._remove_fig_handler\n",
       "    );\n",
       "};\n",
       "\n",
       "mpl.figure.prototype.handle_close = function (fig, msg) {\n",
       "    var width = fig.canvas.width / fig.ratio;\n",
       "    fig.cell_info[0].output_area.element.off(\n",
       "        'cleared',\n",
       "        fig._remove_fig_handler\n",
       "    );\n",
       "    fig.resizeObserverInstance.unobserve(fig.canvas_div);\n",
       "\n",
       "    // Update the output cell to use the data from the current canvas.\n",
       "    fig.push_to_output();\n",
       "    var dataURL = fig.canvas.toDataURL();\n",
       "    // Re-enable the keyboard manager in IPython - without this line, in FF,\n",
       "    // the notebook keyboard shortcuts fail.\n",
       "    IPython.keyboard_manager.enable();\n",
       "    fig.parent_element.innerHTML =\n",
       "        '<img src=\"' + dataURL + '\" width=\"' + width + '\">';\n",
       "    fig.close_ws(fig, msg);\n",
       "};\n",
       "\n",
       "mpl.figure.prototype.close_ws = function (fig, msg) {\n",
       "    fig.send_message('closing', msg);\n",
       "    // fig.ws.close()\n",
       "};\n",
       "\n",
       "mpl.figure.prototype.push_to_output = function (_remove_interactive) {\n",
       "    // Turn the data on the canvas into data in the output cell.\n",
       "    var width = this.canvas.width / this.ratio;\n",
       "    var dataURL = this.canvas.toDataURL();\n",
       "    this.cell_info[1]['text/html'] =\n",
       "        '<img src=\"' + dataURL + '\" width=\"' + width + '\">';\n",
       "};\n",
       "\n",
       "mpl.figure.prototype.updated_canvas_event = function () {\n",
       "    // Tell IPython that the notebook contents must change.\n",
       "    IPython.notebook.set_dirty(true);\n",
       "    this.send_message('ack', {});\n",
       "    var fig = this;\n",
       "    // Wait a second, then push the new image to the DOM so\n",
       "    // that it is saved nicely (might be nice to debounce this).\n",
       "    setTimeout(function () {\n",
       "        fig.push_to_output();\n",
       "    }, 1000);\n",
       "};\n",
       "\n",
       "mpl.figure.prototype._init_toolbar = function () {\n",
       "    var fig = this;\n",
       "\n",
       "    var toolbar = document.createElement('div');\n",
       "    toolbar.classList = 'btn-toolbar';\n",
       "    this.root.appendChild(toolbar);\n",
       "\n",
       "    function on_click_closure(name) {\n",
       "        return function (_event) {\n",
       "            return fig.toolbar_button_onclick(name);\n",
       "        };\n",
       "    }\n",
       "\n",
       "    function on_mouseover_closure(tooltip) {\n",
       "        return function (event) {\n",
       "            if (!event.currentTarget.disabled) {\n",
       "                return fig.toolbar_button_onmouseover(tooltip);\n",
       "            }\n",
       "        };\n",
       "    }\n",
       "\n",
       "    fig.buttons = {};\n",
       "    var buttonGroup = document.createElement('div');\n",
       "    buttonGroup.classList = 'btn-group';\n",
       "    var button;\n",
       "    for (var toolbar_ind in mpl.toolbar_items) {\n",
       "        var name = mpl.toolbar_items[toolbar_ind][0];\n",
       "        var tooltip = mpl.toolbar_items[toolbar_ind][1];\n",
       "        var image = mpl.toolbar_items[toolbar_ind][2];\n",
       "        var method_name = mpl.toolbar_items[toolbar_ind][3];\n",
       "\n",
       "        if (!name) {\n",
       "            /* Instead of a spacer, we start a new button group. */\n",
       "            if (buttonGroup.hasChildNodes()) {\n",
       "                toolbar.appendChild(buttonGroup);\n",
       "            }\n",
       "            buttonGroup = document.createElement('div');\n",
       "            buttonGroup.classList = 'btn-group';\n",
       "            continue;\n",
       "        }\n",
       "\n",
       "        button = fig.buttons[name] = document.createElement('button');\n",
       "        button.classList = 'btn btn-default';\n",
       "        button.href = '#';\n",
       "        button.title = name;\n",
       "        button.innerHTML = '<i class=\"fa ' + image + ' fa-lg\"></i>';\n",
       "        button.addEventListener('click', on_click_closure(method_name));\n",
       "        button.addEventListener('mouseover', on_mouseover_closure(tooltip));\n",
       "        buttonGroup.appendChild(button);\n",
       "    }\n",
       "\n",
       "    if (buttonGroup.hasChildNodes()) {\n",
       "        toolbar.appendChild(buttonGroup);\n",
       "    }\n",
       "\n",
       "    // Add the status bar.\n",
       "    var status_bar = document.createElement('span');\n",
       "    status_bar.classList = 'mpl-message pull-right';\n",
       "    toolbar.appendChild(status_bar);\n",
       "    this.message = status_bar;\n",
       "\n",
       "    // Add the close button to the window.\n",
       "    var buttongrp = document.createElement('div');\n",
       "    buttongrp.classList = 'btn-group inline pull-right';\n",
       "    button = document.createElement('button');\n",
       "    button.classList = 'btn btn-mini btn-primary';\n",
       "    button.href = '#';\n",
       "    button.title = 'Stop Interaction';\n",
       "    button.innerHTML = '<i class=\"fa fa-power-off icon-remove icon-large\"></i>';\n",
       "    button.addEventListener('click', function (_evt) {\n",
       "        fig.handle_close(fig, {});\n",
       "    });\n",
       "    button.addEventListener(\n",
       "        'mouseover',\n",
       "        on_mouseover_closure('Stop Interaction')\n",
       "    );\n",
       "    buttongrp.appendChild(button);\n",
       "    var titlebar = this.root.querySelector('.ui-dialog-titlebar');\n",
       "    titlebar.insertBefore(buttongrp, titlebar.firstChild);\n",
       "};\n",
       "\n",
       "mpl.figure.prototype._remove_fig_handler = function (event) {\n",
       "    var fig = event.data.fig;\n",
       "    if (event.target !== this) {\n",
       "        // Ignore bubbled events from children.\n",
       "        return;\n",
       "    }\n",
       "    fig.close_ws(fig, {});\n",
       "};\n",
       "\n",
       "mpl.figure.prototype._root_extra_style = function (el) {\n",
       "    el.style.boxSizing = 'content-box'; // override notebook setting of border-box.\n",
       "};\n",
       "\n",
       "mpl.figure.prototype._canvas_extra_style = function (el) {\n",
       "    // this is important to make the div 'focusable\n",
       "    el.setAttribute('tabindex', 0);\n",
       "    // reach out to IPython and tell the keyboard manager to turn it's self\n",
       "    // off when our div gets focus\n",
       "\n",
       "    // location in version 3\n",
       "    if (IPython.notebook.keyboard_manager) {\n",
       "        IPython.notebook.keyboard_manager.register_events(el);\n",
       "    } else {\n",
       "        // location in version 2\n",
       "        IPython.keyboard_manager.register_events(el);\n",
       "    }\n",
       "};\n",
       "\n",
       "mpl.figure.prototype._key_event_extra = function (event, _name) {\n",
       "    var manager = IPython.notebook.keyboard_manager;\n",
       "    if (!manager) {\n",
       "        manager = IPython.keyboard_manager;\n",
       "    }\n",
       "\n",
       "    // Check for shift+enter\n",
       "    if (event.shiftKey && event.which === 13) {\n",
       "        this.canvas_div.blur();\n",
       "        // select the cell after this one\n",
       "        var index = IPython.notebook.find_cell_index(this.cell_info[0]);\n",
       "        IPython.notebook.select(index + 1);\n",
       "    }\n",
       "};\n",
       "\n",
       "mpl.figure.prototype.handle_save = function (fig, _msg) {\n",
       "    fig.ondownload(fig, null);\n",
       "};\n",
       "\n",
       "mpl.find_output_cell = function (html_output) {\n",
       "    // Return the cell and output element which can be found *uniquely* in the notebook.\n",
       "    // Note - this is a bit hacky, but it is done because the \"notebook_saving.Notebook\"\n",
       "    // IPython event is triggered only after the cells have been serialised, which for\n",
       "    // our purposes (turning an active figure into a static one), is too late.\n",
       "    var cells = IPython.notebook.get_cells();\n",
       "    var ncells = cells.length;\n",
       "    for (var i = 0; i < ncells; i++) {\n",
       "        var cell = cells[i];\n",
       "        if (cell.cell_type === 'code') {\n",
       "            for (var j = 0; j < cell.output_area.outputs.length; j++) {\n",
       "                var data = cell.output_area.outputs[j];\n",
       "                if (data.data) {\n",
       "                    // IPython >= 3 moved mimebundle to data attribute of output\n",
       "                    data = data.data;\n",
       "                }\n",
       "                if (data['text/html'] === html_output) {\n",
       "                    return [cell, data, j];\n",
       "                }\n",
       "            }\n",
       "        }\n",
       "    }\n",
       "};\n",
       "\n",
       "// Register the function which deals with the matplotlib target/channel.\n",
       "// The kernel may be null if the page has been refreshed.\n",
       "if (IPython.notebook.kernel !== null) {\n",
       "    IPython.notebook.kernel.comm_manager.register_target(\n",
       "        'matplotlib',\n",
       "        mpl.mpl_figure_comm\n",
       "    );\n",
       "}\n"
      ],
      "text/plain": [
       "<IPython.core.display.Javascript object>"
      ]
     },
     "metadata": {},
     "output_type": "display_data"
    },
    {
     "data": {
      "text/html": [
       "<img src=\"data:image/png;base64,iVBORw0KGgoAAAANSUhEUgAAAfgAAAFoCAYAAAC7Tuk8AAAAAXNSR0IArs4c6QAAIABJREFUeF7tnQu4bmVZrh8U8oCcJE0lF1gedooHXCBoqFSGim5EEDQkRSS3ZUqmgVtSJCM8QmiimYhiHgBzRxqhaeIhAllUIKGgJaBAl4acRCCR1fXO/f2uf03mmmM877++Mb5/eo/rWhesNZ9vjG8+z/v+9z/Om4gFB3AAB3AAB3BgxTmwyYr7jfiFcAAHcAAHcAAHBOApAhzAARzAARxYgQ4A+BUYKr8SDuAADuAADgB4agAHcAAHcAAHVqADAH4FhsqvhAM4gAM4gAMAnhrAARzAARzAgRXoAIBfgaHyK+EADuAADuAAgKcGcAAHcAAHcGAFOgDgV2Co/Eo4gAM4gAM4AOCpARzAARzAARxYgQ6sCMBvu+22a3fYYYcVGA+/Eg7gAA7gAA6sc+CCCy74L0n36ePJigD86tWr165Zs6bP74sGB3AAB3AAB+bWgU022eQCSTv3+QUAfB+X0OAADuAADuBAAw4A+AZCYAo4gAM4gAM4sLEdAPAb21HWhwM4MNcOHH/88Xrf+96nTTbZRI985CN18skn6+tf/7pe+tKX6tZbb9Wmm26qE088UY973OPu9HsuNfbud7+7LrzwwoXxP/jBDxTXAH34wx/WlltuOdc+Mfn2HQDw7WfEDHEABwZy4KqrrtLuu++uSy65RPe4xz10wAEHaK+99tJHPvIRvfKVr9TTn/50nXnmmXrLW96is88+e71ZbWjswQcfrF122UVve9vb9OQnP1nvf//79a1vfUtvfOMbB/qt2MxPqwMA/qc1eX5vHMCBOzkQkN5tt90W9rhjD3ufffbRK17xCr397W/XIYccouc+97n66Ec/qk9+8pML0J9eNjR2zz33XFjXDTfcsHBU4Nvf/rae+tSnLnyJYMGBmg4A+Jrusm4cwIG5c+CEE07QkUceubAHH3COw+lf+9rXFqC8du1a3XHHHTrnnHO0/fbb3+l3W2psiJ7whCfoiCOO0LOe9Swdd9xxOuqoo3TTTTfNnTdMeL4cAPDzlRezxQEcqOjAddddp/3220+nnnqqtt56a+2///56znOeo6985SsLh9fjZ6eddpre+9736rOf/ex6M9nQ2IMOOmjhHH4cCbj22mu199576x3veMfC/7PgQE0HAHxNd1k3DuDAXDlw+umn66yzztJJJ520MO9TTjlF55577sJe/PXXX79wiD324rfaaivdeOON6/1uGxobF+RNL5dddpkC+vGlgQUHajoA4Gu6y7pxAAfmyoHzzjtv4Vz7+eefv3CIPi6Q23nnnReumn/3u9+tPfbYQ5/73Od0+OGH64IL4hki65YNjX35y1+u7373u7rvfe+7cHg/1hnrie2w4EBNBwB8TXdZNw7gwNw5EOfH4xB93A630047LdwyF8A/7LDDdPvttytuewvgr169WldffbUOPfTQhSvrY1lq7N3udjfFufl3vetdC5p9991Xxx577MLRABYcqOkAgK/pLuvGARzAARzAgZEcAPAjGc9mcQAHcAAHcKCmAwC+prusGwdwwHaAQ9e2ZfaAuFCQZeU7AOBXfsb8hjgwVw4A+PpxAfj6HrewBQDfQgrMAQdw4CcOAPj6xQDg63vcwhYAfAspMAccwAEAP2ANAPgBzR5xUwB+RPPZNA7gwJ0dYA++flUA+Poet7AFAN9CCswBB3CAPfgBawDAD2j2iJsC8COaz6ZxAAfYgx+jBgD8GK4Pv00AP7znbBEHcGAZBzhEX788AHx9j1vYAoBvIYUl5nD88ccvPCIzPuwe+chH6uSTT9YxxxyjM844Q3e5y10Wnmv9gQ98QA94wAPWG33rrbfqSU96km677baFx2rGm7COPvroBc3rXve6zvGN2jF30yK/fGQAPu9d35ErFfD03foVAOD7dsSAuquuukq77767LrnkkoUXXhxwwAHaa6+9Fp5hveWWWy7MJF43GT9/z3ves97MonFvvvlm3ete99KPfvSjhfXEc7B32223hbdfdY0f8NdcsZsiv9miBfCz+ddn9EoEPH135+QBfJ9uGFgThRpAvvDCCxeAvM8++yy8S3rPPff8yUziZRVXXnnlwhuuNrT88Ic/XAB8aHbdddf1ZH3GD/xrr5jNkd9sUQL42fzrM3qlAp7PTfbg165Zs6ZPD4yqib3uI488cmEPPsAe76OOJf4t3lEd76P+/Oc/r/vc5z53muePf/zjhTddffOb39TLXvYyvfnNb/6Jps/4UX/xFbJx8ssHCeDz3vUduRIBH787fQfgmwf8ddddp/3222/hlZVbb7219t9//4Vz6QcddNB6e/Bxvn1yfn2pxr7++uv17Gc/W+985zu144473mkPvmt83w8LdOs7QH6zVQSAn82/PqNXIuDpuzsnzyH6Pt0wsOb000/XWWedpZNOOmlhy7HHfu655y68g3qyXHHFFXrGM56hiy++eNnZxReAzTffXK9+9avX0/UdP/CvviI2R36zxQjgZ/Ovz+iVCHj6DsDHoevm9+DPO+88HXLIITr//PMXDtEffPDB2nnnnfW0pz1ND3nIQxZSjL3yL3zhC/r4xz++Xqrf+973tNlmmy3s+d9yyy0Lh/ePOOIIPfOZz9Q3vvGNzvF9PhzQLO8A+c1WIQB+Nv/6jF6JgKfvAPxcAD5iOuqooxYO0W+66abaaaedFm6ZO/DAA3XppZcu3Ca3/fbbL1xBv9122+nqq6/WoYceqjPPPFMXXXSRXvjCFyrOw99xxx0LV+C//vWvX0g+DvsvNb7PBwIazwHy8/yaVgP4vHd9R65EwPO5CeDnBvB9GxUdDqw0BwB8/URXKuDrOzdfW+Ac/HzlxWxxYMU7AODrRwzg63vcwhYA/DIp/MHRb28hoxU9h7ce9aoqvx/ZVbF1vZXWyg7A18+uFuDpu/rZOX0H4AF8/YpcZgtOsToT5YPGcSunrZUdgM/l4YwC8I5bbWmdvgPwAH7U6nWK1ZkogHfcymlrZQfgc3k4owC841ZbWqfvADyAH7V6nWJ1JgrgHbdy2lrZAfhcHs4oAO+41ZbW6TsAD+BHrV6nWJ2JAnjHrZy2VnYAPpeHMwrAO261pXX6DsAD+FGr1ylWZ6IA3nErp62VHYDP5eGMAvCOW21pnb4D8AB+1Op1itWZKIB33Mppa2UH4HN5OKMAvONWW1qn7+YF8K+UdKiktZK+KulFku4p6VRJO0i6XNIBkq7risJ5VC2Q6HJz9p87xepsjewct3LaWtkB+FwezigA77jVltbpu3kA/HaSvizp4ZJukXSapDPL378v6U2SXiNpG0lHdEUB4LscGvbnTrE6MwPwjls5ba3sAHwuD2cUgHfcakvr9N28AP5cSY+WdKOkv5b0jnjfiqQ9JF0j6f6Szpb0sK4oAHyXQ8P+3ClWZ2YA3nErp62VHYDP5eGMAvCOW21pnb6bB8CHu4dJOqbswX9G0vMlXS9p6ynr4/B87MUvuwD4LoeG/blTrM7MALzjVk5bKzsAn8vDGQXgHbfa0jp9Nw+AD2j/laTnFqifLinekfpnBuBfIin+aNWqVavjXeh9FiDRx6XZNE6xOlsiO8etnLZWdgA+l4czCsA7brWldfpuHgC/v6SnSXpxsfkFknaT9Gscom+r8DKzcYrVWT+Ad9zKaWtlB+BzeTijALzjVltap+/mAfC7Snq/pF3KIfoPSFoTO+OSrp26yO7ekg7vioJD9F0ODftzp1idmQF4x62ctlZ2AD6XhzMKwDtutaV1+m4eAB/uHl0O0d8u6V/KLXP3KlfUB+ivlBR7+nFV/bILgO9yaNifO8XqzAzAO27ltLWyA/C5PJxRAN5xqy2t03fzAviN5jCA32hWbpQVOcXqbBDAO27ltLWyA/C5PJxRAN5xqy2t03cAfpnsgET9wnaK1ZkN2Tlu5bS1sgPwuTycUQDecastrdN3AB7Aj1q9TrE6EwXwjls5ba3sAHwuD2cUgHfcakvr9B2AB/CjVq9TrM5EAbzjVk5bKzsAn8vDGQXgHbfa0jp9B+AB/KjV6xSrM1EA77iV09bKDsDn8nBGAXjHrba0Tt8BeAA/avU6xepMFMA7buW0tbID8Lk8nFEA3nGrLa3TdwAewI9avU6xOhMF8I5bOW2t7AB8Lg9nFIB33GpL6/QdgAfwo1avU6zORAG841ZOWys7AJ/LwxkF4B232tI6fQfgAfyo1esUqzNRAO+4ldPWyg7A5/JwRgF4x622tE7fAXgAP2r1OsXqTBTAO27ltLWyA/C5PJxRAN5xqy2t03cAHsCPWr1OsToTBfCOWzltrewAfC4PZxSAd9xqS+v0HYAH8KNWr1OszkQBvONWTlsrOwCfy8MZBeAdt9rSOn0H4AH8qNXrFKszUQDvuJXT1soOwOfycEYBeMettrRO3wF4AD9q9TrF6kwUwDtu5bS1sgPwuTycUQDecastrdN3AB7Aj1q9TrE6EwXwjls5ba3sAHwuD2cUgHfcakvr9B2AB/CjVq9TrM5EAbzjVk5bKzsAn8vDGQXgHbfa0jp9B+AB/KjV6xSrM1EA77iV09bKDsDn8nBGAXjHrba0Tt8BeAA/avU6xepMFMA7buW0tbID8Lk8nFEA3nGrLa3TdwAewI9avU6xOhMF8I5bOW2t7AB8Lg9nFIB33GpL6/QdgAfwo1avU6zORAG841ZOWys7AJ/LwxkF4B232tI6fQfgAfyo1esUqzNRAO+4ldPWyg7A5/JwRgF4x622tE7fAXgAP2r1OsXqTBTAO27ltLWyA/C5PJxRAN5xqy2t03cAHsCPWr1OsToTBfCOWzltrewAfC4PZxSAd9xqS+v0HYAH8KNWr1OszkQBvONWTlsrOwCfy8MZBeAdt9rSOn0H4AH8qNXrFKszUQDvuJXT1soOwOfycEYBeMettrRO3wF4AD9q9TrF6kwUwDtu5bS1sgPwuTycUQDecastrdN3AB7Aj1q9TrE6EwXwjls5ba3sAHwuD2cUgHfcakvr9B2AB/CjVq9TrM5EAbzjVk5bKzsAn8vDGQXgHbfa0jp9B+AB/KjV6xSrM1EA77iV09bKDsDn8nBGAXjHrba0Tt8BeAA/avU6xepMFMA7buW0tbID8Lk8nFEA3nGrLa3TdwAewI9avU6xOhMF8I5bOW2t7AB8Lg9nFIB33GpL6/QdgAfwo1avU6zORAG841ZOWys7AJ/LwxkF4B232tI6fQfgAfyo1esUqzNRAO+4ldPWyg7A5/JwRgF4x622tE7fAXgAP2r1OsXqTBTAO27ltLWyA/C5PJxRAN5xqy2t03cAHsCPWr1OsToTBfCOWzltrewAfC4PZxSAd9xqS+v0HYAH8KNWr1OszkQBvONWTlsrOwCfy8MZBeAdt9rSOn0H4AH8qNXrFKszUQDvuJXT1soOwOfycEYBeMettrRO3wF4AD9q9TrF6kwUwDtu5bS1sgPwuTycUQDecastrdN3AB7Aj1q9TrE6EwXwjls5ba3sAHwuD2cUgHfcakvr9B2AB/CjVq9TrM5EAbzjVk5bKzsAn8vDGQXgHbfa0jp9B+AB/KjV6xSrM1EA77iV09bKDsDn8nBGAXjHrba0Tt8BeAA/avU6xepMFMA7buW0tbID8Lk8nFEA3nGrLa3TdwAewI9avU6xOhMF8I5bOW2t7AB8Lg9nFIB33GpL6/QdgAfwo1avU6zORAG841ZOWys7AJ/LwxkF4B232tI6fQfgAfyo1esUqzNRAO+4ldPWyg7A5/JwRgF4x622tE7fAXgAP2r1OsXqTBTAO27ltLWyA/C5PJxRAN5xqy2t03cAHsCPWr1OsToTBfCOWzltrewAfC4PZxSAd9xqS+v0HYAH8KNWr1OszkQBvONWTlsrOwCfy8MZBeAdt9rSOn0H4AH8qNXrFKszUQDvuJXT1soOwOfycEYBeMettrRO3wF4AD9q9TrF6kwUwDtu5bS1sgPwuTycUQDecastrdN3AB7Aj1q9TrE6EwXwjls5ba3sAHwuD2cUgHfcakvr9B2AB/CjVq9TrM5EAbzjVk5bKzsAn8vDGQXgHbfa0jp9B+AB/KjV6xSrM1EA77iV09bKDsDn8nBGAXjHrba0Tt8NAfi7S3q8pIdJ2lrS9ZIuk3SOpFuHtm716tVr16xZ02uzQKKXTTOJnGJ1NkR2jls5ba3sAHwuD2cUgHfcakvr9F1NwO8s6TBJ+0m62xIW3SbpryS9Q9L5Q1kI4Idyut92nGLtt8b/rwLwjls5ba3sAHwuD2cUgHfcakvr9F0twJ9WwL7JlDU3SbpR0paStpj697UF9AcMYSOAH8Ll/ttwirX/WgG841VWWys7AJ9NpP84AN/fq9aUTt/VAvwdkr4r6XRJnyx76NdNGbWNpF0k7S1pf0k/K+muQxgJ4Idwuf82nGLtv1YA73iV1dbKDsBnE+k/DsD396o1pdN3tQB/qKRTJP13D3N+RtILJL2vQxvn70Ozo6TY6z9E0qWSTpW0g6TLJcVRgOkvEndaJYDvkciAEqdYnWlxiN5xK6etlR2Az+XhjALwjlttaZ2+qwX4Go58UNKXCuTjS8E9Jb1W0vclvUnSayTFkYEjlts4gK8RTX6dTrE6WwHwjls5ba3sAHwuD2cUgHfcakvr9N2QgI/z8S+W9NSyB/4ZSSeV/+9yMM7bXyjpFxbpYw9+D0nXSLq/pLPL1fobXB+A77J62J87xerMDMA7buW0tbID8Lk8nFEA3nGrLa3Td0MC/thFe9dxmP3tkg7vYd9jJL1X0iWSHi3pgnKF/lXl1rvJKuLwfOzFA/geprYgcYrVmS+Ad9zKaWtlB+BzeTijALzjVltap+9qAj722APik+U7kv5c0p9K+pGkZ0s6XtL9etgXt9ydK+mXJZ0n6YRyRf7LewL+JZLij1atWrX6iiuu6LFJLtTqZdKMIqdYnU0BeMetnLZWdgA+l4czCsA7brWldfquJuADxHGx3VeLPQH49xSoB+CfJemdPQEfXwIC8HExXSxPLOfcH8wh+raKz52NU6zOugG841ZOWys7AJ/LwxkF4B232tI6fVcT8H8r6SmS3ibpjyQdXQ7HT+/V9z1EHw7HBXbxhSHOu79B0ubF9munLrK7d9chf87Bz2+xOjMH8I5bOa3zQeNsAcA7buW0AD7nWwujnL6rCfjw4nlljz0ecvMySQ8qF9nFz+Iiu7+QFPfM91niPHzcJhdX0P+HpBdJuoukeKjOKklXlnvq46r6DS4Avo/Vw2mcYnVmBeAdt3LaWtkB+FwezigA77jVltbpu9qAD2fiorfYi3+hpLjV7dVd96rXtBPA13TXX7dTrM7aAbzjVk5bKzsAn8vDGQXgHbfa0jp9NwTg47B57FXH7WxxDj4eWBPPqI8H1Ay+APjBLV92g06xOjMH8I5bOW2t7AB8Lg9nFIB33GpL6/RdTcDHle/xMpmfl/RtSftKuljS6+NdIJL+XtJvl58N5iCAH8zqXhtyirXXCosIwDtu5bS1sgPwuTycUQDecastrdN3NQH/T5Ji7z3uWV8tKS6Ge0Kx6hHl/Hs8djYeYjPYAuAHs7rXhpxi7bVCAO/YNJO2VnYAfqZYeg0G8L1salLk9F1NwP9A0gPL+fYAfVwEd68px+I++diDP3FIFwH8kG53b8sp1u61rVOwB++4ldPWyg7A5/JwRgF4x622tE7f1QT8ZZLOkfTlct/64yU9dGyrAPzYCay/fadYnZkDeMetnLZWdgA+l4czCsA7brWldfquJuB/U9L7y2tgfyzpYEkfHtsqAD92AgC+rQTys3E+aJytAHjHrZwWwOd8a2GU03c1AR9exB77oyRdJCn26EdfAPzoEaw3AadYnZmzB++4ldPWyg7A5/JwRgF4x622tE7f1QZ8W87E1X6rV69ds2ZNr3kBiV42zSRyitXZENk5buW0tbID8Lk8nFEA3nGrLa3Td7UA/0VJb5V0pqQ4PL+h5a6SnlkefhPPl6++APjqFlsbcIrVWTGAd9zKaWtlB+BzeTijALzjVltap+9qAT4ePxvPnI/Xt54l6XxJl0uKR9ZuUV4as4ukp0293jVgX30B8NUttjbgFKuzYgDvuJXT1soOwOfycEYBeMettrRO39UC/N6S/kTSw4s10y+YmbgVt8nF8rXyZrhPDmEjgB/C5f7bcIq1/1p51a/jVVZbKzsAn02k/zgA39+r1pRO39UC/MSTX5cUV9PHY2rjiXaT5RpJX5B0iqRPL3pvfFU/AXxVe+2VO8XqrJw9eMetnLZWdgA+l4czCsA7brWldfquNuCnnblneQ79DZJuHssyAD+W80tv1ylWZ+YA3nErp62VHYDP5eGMAvCOW21pnb4bEvBNuATgm4jhJ5NwitWZOYB33Mppa2UH4HN5OKMAvONWW1qn7wD8MtkBifqF7RSrMxuyc9zKaWtlB+BzeTijALzjVltap+8APIAftXqdYnUmCuAdt3LaWtkB+FwezigA77jVltbpOwAP4EetXqdYnYkCeMetnLZWdgA+l4czCsA7brWldfoOwAP4UavXKVZnogDecSunrZUdgM/l4YwC8I5bbWmdvhsC8HGr3GeHvBVuuTi4yG5+i9WZOYB33MppnQ8aZwsA3nErpwXwOd9aGOX03RCAj6fafUfSh8p975eOaRKAH9P9O2/bKVZn5gDecSunrZUdgM/l4YwC8I5bbWmdvhsK8OHQ5Gl250n6oKSPSYp74gddAPygdnduzCnWzpVNCQC841ZOWys7AJ/LwxkF4B232tI6fTcE4B8k6TmS9pMUz5+PR9QG7G+T9DeSTi5PsxvERQA/iM29N+IUa++VikfVOl5ltbWyA/DZRPqPA/D9vWpN6fTdEICf9iceV3ugpNdJ2nxqr/6rkvaX9I3aZgL42g5763eK1Vkze/COWzltrewAfC4PZxSAd9xqS+v03ZCA31HSIZIOkrRt2ZOPV8leX/7+j5KqvzIWwM9vsTozB/COWzmt80HjbAHAO27ltAA+51sLo5y+GwLwL5H0Ykk7F3PiEP33JL1P0nsk/aekcyU9QtLdaxsI4Gs77K3fKVZnzQDecSunrZUdgM/l4YwC8I5bbWmdvhsC8HEV/WT5J0knSjpd0n9P/ftflkP3d6ltJYCv7bC3fqdYnTUDeMetnLZWdgA+l4czCsA7brWldfpuCMDHm+M+Iuldkv51bKsA/NgJrL99p1idmQN4x62ctlZ2AD6XhzMKwDtutaV1+m4IwG9dzrM34RKAbyKGn0zCKVZn5gDecSunrZUdgM/l4YwC8I5bbWmdvhsC8HHF/K9IeqWkC4tVj5L0p5I+L+mNQ9oH4Id0u3tbTrF2r22dAsA7buW0tbID8Lk8nFEA3nGrLa3Td0MA/vJy8dz9Ftl0jaRbJcV98oMtAH4wq3ttyCnWXissIgDvuJXT1soOwOfycEYBeMettrRO3w0B+ID4ZZJir316uUjSQ4e4cn56owB+fovVmTmAd9zKaZ0PGmcLAN5xK6cF8DnfWhjl9N0QgI9b4rYogA/Qx/IQSReXR9Xed0jTAPyQbndvyynW7rWtUwB4x62ctlZ2AD6XhzMKwDtutaV1+m4IwP+1pL3LhXb/r1i1j6S4+O4MSfsOaR+AH9Lt7m05xdq9NgDveDSrtlZ2AH7WZLrHA/huj1pVOH03BOBXS4qn1P3M1KNp42E38Sz6J0j6lyGNBPBDut29LadYu9cG4B2PZtXWyg7Az5pM93gA3+1Rqwqn74YAfPgUIP9jSY8rpsUb5f5QUjz4ZtAFwA9qd+fGnGLtXNmUgEP0jls5ba3sAHwuD2cUgHfcakvr9N1QgG/GIQDfTBQLE3GK1Zk5gHfcymlrZQfgc3k4owC841ZbWqfvhgL8VpJ+R9Jukq6Q9F5Jj5V0tqQrh7QPwA/pdve2nGLtXts6BYB33Mppa2UH4HN5OKMAvONWW1qn74YA/HaSvixpVbEpDs8fIekLsQNX/n8wBwH8YFb32pBTrL1WWEQA3nErp62VHYDP5eGMAvCOW21pnb4bAvAflvQbkv5L0s+WN8fFOfkbJP172ZMfzEEAP5jVvTbkFGuvFQJ4x6aZtLWyA/AzxdJrMIDvZVOTIqfvhgB8gD2WX5R03RTg40E3sXcf74YfbAHwg1nda0NOsfZaIYB3bJpJWys7AD9TLL0GA/heNjUpcvpuCMDHk+y+LukxkuLVsfHu99iDv7Qctr/HkC4C+CHd7t6WU6zda1un4BC941ZOWys7AJ/LwxkF4B232tI6fTcE4APusff+dEmfkRTn4I+TdKqkr0l6xJD2Afgh3e7ellOs3WsD8I5Hs2prZQfgZ02mezyA7/aoVYXTd0MAPt4md/TUQ26mfTuq3B8/mJcAfjCre23IKdZeKywi9uAdt3LaWtkB+FwezigA77jVltbpuyEAv5mkT0h6xiKb/k5SPLL2R0PaB+CHdLt7W06xdq+NPXjHo1m1tbID8LMm0z0ewHd71KrC6bshAD/x6YmSdpUUj6n9SrlNbnAPAfzgli+7QadYnZmzB++4ldPWyg7A5/JwRgF4x622tE7fDQn4JlwC8E3E8JNJOMXqzBzAO27ltLWyA/C5PJxRAN5xqy2t03dDAT4usHuepAdIuuuUXWsl/dqQ9gH4Id3u3pZTrN1rW6cA8I5bOW2t7AB8Lg9nFIB33GpL6/TdEIB/vqRTlrAoDtUH4KeBX91JAF/dYmsDTrE6Kwbwjls5ba3sAHwuD2cUgHfcakvr9N0QgI/z7TtL+qakB0u6SdIPJN1d0oWSfnVI+wD8kG53b8sp1u61sQfveDSrtlZ2AH7WZLrHA/huj1pVOH03BOAD5vGwm3hq3S3lQTdxRX08pvYwSR8a0kgAP6Tb3dtyirV7bQDe8WhWba3sAPysyXSPB/DdHrWqcPpuCMAH3C8ue/FxS1w83OZR5d9iLz726gdbAPxgVvfakFOsvVZYRBwZ1lW9AAAgAElEQVSid9zKaWtlB+BzeTijALzjVltap++GAPzVZc89nmZ3laSfk/QXkn6r/PsWQ9oH4Id0u3tbTrF2r409eMejWbW1sgPwsybTPR7Ad3vUqsLpuyEA/zlJTypX0B8v6cBycV1cZPcPkp4ypJEAfki3u7flFGv32gC849Gs2lrZAfhZk+keD+C7PWpV4fTdEIB/rKQHlXfCx1Xz8frYeOBNvE3u4HLx3WBeAvjBrO61IadYe62wiDhE77iV09bKDsDn8nBGAXjHrba0Tt8NAfim3AHwTcUhp1idmQN4x62ctlZ2AD6XhzMKwDtutaV1+m4IwMfh+eWWLw5pH4Af0u3ubTnF2r22dQoA77iV09bKDsDn8nBGAXjHrba0Tt8NAfh4B3wcml9qiX/ftKd98UCcNeVCvWdKund55ewOki6XdICk67rWBeC7HBr2506xOjMD8I5bOW2t7AB8Lg9nFIB33GpL6/TdUIDfkEPOk+x+v9xqt6WkAPxbJH1f0pskvUbSNpKO6IoCwHc5NOzPnWJ1ZgbgHbdy2lrZAfhcHs4oAO+41ZbW6bshAP/kRfZsJWlfSfEI298pt8x1Ofjzkj4o6RhJAfoA/KWS9pB0jaT7Szpb0sO6VgTguxwa9udOsTozA/COWzltrewAfC4PZxSAd9xqS+v03RCA35A750q6don3xC+l/7ikYyXFPfOvLoC/XtLWU+I4PB978csuAL7LoWF/7hSrMzMA77iV09bKDsDn8nBGAXjHrba0Tt+NAfi4/z0eevP5ch598w77Ym99r7K3H3vsGcC/RFL80apVq1ZfccUVvRIDEr1smknkFKuzIbJz3Mppa2UH4HN5OKMAvONWW1qn74YA/I+XsScujgvYL7fEnvtvSrq9vKAmzsF/QtIuHKJvq/Ays3GK1Vk/gHfcymlrZQfgc3k4owC841ZbWqfvhgB8XEW/1BL/Ho+rPdmwb3oP/q3lEP/kIru4qv7wrnVxiL7LoWF/7hSrMzMA77iV09bKDsDn8nBGAXjHrba0Tt8NAfijFtkTV85/txyijwvlnGUa8NtKOi2Ouku6UtL+5ar6ZdcH4B2762udYnVmA+Adt3LaWtkB+FwezigA77jVltbpuyEA35Q7AL6pOHiSXVtxWLNxPmicFQN4x62cFsDnfGthlNN3QwB+b0mPkfQxSZcVgx4q6XmSLpR0xpCmAfgh3e7ellOs3Wtbp2AP3nErp62VHYDP5eGMAvCOW21pnb4bAvBflbS9pPtKinfDx3K3cpg+LmePd8MPtgD4wazutSGnWHutsIgAvONWTlsrOwCfy8MZBeAdt9rSOn03BOBvlvSNshc/7dS/SnqIpK7b5DaquwB+o9o588qcYnU2BuAdt3LaWtkB+FwezigA77jVltbpuyEAf6OkuGL+gZJuKlbFA2u+IynuiY/b3gZbAPxgVvfakFOsvVbIHrxj00zaWtkB+Jli6TUYwPeyqUmR03dDAP5Lkp4g6SuSTiyOvVTSbpLOkfTEIV0E8EO63b0tp1i717ZOwR6841ZOWys7AJ/LwxkF4B232tI6fTcE4OMtb3GB3VJvlHuupHgM7WALgB/M6l4bcoq11wrZg3dsmklbKzsAP1MsvQYD+F42NSly+m4IwIdJr5L0hqnz7XFePu6PP25oBwH80I4vvz2nWJ2ZswfvuJXT1soOwOfycEYBeMettrRO3w0F+HDoHpIeUaz6N0m3jGEbgB/D9Q1v0ylWZ+YA3nErp62VHYDP5eGMAvCOW21pnb4bAvAPlvQASV8vt8aFW/eR9EuSrpb0zSHtA/BDut29LadYu9e2TgHgHbdy2lrZAfhcHs4oAO+41ZbW6bshAP/l8mKYuBf+P4tVPycp7oGPC++eNKR9AH5It7u35RRr99oAvOPRrNpa2QH4WZPpHg/guz1qVeH03RCAj/e2xy1xOy4yLB6AE7fOTb/TvbqnAL66xdYGnGJ1VswevONWTlsrOwCfy8MZBeAdt9rSOn03BODjXPt1krabupI+7n+/StI25dz8YA4C+MGs7rUhp1h7rbCIALzjVk5bKzsAn8vDGQXgHbfa0jp9NwTgLy7n2+Me+LdMPn8l/a6kS5bYs6/qJoCvaq+9cqdYnZUDeMetnLZWdgA+l4czCsA7brWldfpuCMC/VtIfb+A++CMlxfvcB1sA/GBW99qQU6y9VsgevGPTTNpa2QH4mWLpNRjA97KpSZHTd0MAfjNJn5D0jEVufUrSvpJuH9JFAD+k293bcoq1e23rFOzBO27ltLWyA/C5PJxRAN5xqy2t03dDAH7iTjySdtfyl/MkxSNsB18A/OCWL7tBp1idmQN4x62ctlZ2AD6XhzMKwDtutaV1+m5IwC92Kd4R/yJJhw1pH4Af0u3ubTnF2r029uAdj2bV1soOwM+aTPd4AN/tUasKp++GBvy2kp5fwD55D/xdhzQSwA/pdve2nGLtXhuAdzyaVVsrOwA/azLd4wF8t0etKpy+GwLwd5G0V4F6nIePc/Jxm1wst3GbXKtlNMy8nGJ1ZsQhesetnLZWdgA+l4czCsA7brWldfquJuAfLulgSQdJiifXxTIBe7xZ7gWSPikp3hc/2MIe/GBW99qQU6y9VlhEAN5xK6etlR2Az+XhjALwjlttaZ2+qwn4O8qtcQH1AHo8svZD5Q1ym0sa9ND8JCIAP7/F6swcwDtu5bTOB42zBQDvuJXTAvicby2McvpuCMCvKXvx3yjmxFPttgTwLZTK+HNwitWZLYB33Mppa2UH4HN5OKMAvONWW1qn74YAfLgTUP+YpFMkfRrAt1UwY87GKVZnngDecSunrZUdgM/l4YwC8I5bbWmdvqsJ+N+Q9EJJT5EUF9rFYfpYJofsHyvpwqGt4xD90I4vvz2nWJ2ZA3jHrZy2VnYAPpeHMwrAO261pXX6ribgJ67ES2biYruAfbwbPpYJ7C+X9ItD2gfgh3S7e1tOsXavbZ0CwDtu5bS1sgPwuTycUQDecastrdN3QwB+2p3dy+1yz5G0RQH9oBfbAfj5LVZn5gDecSundT5onC0AeMetnBbA53xrYZTTd0MDfuLPPSXtX/bsf2VI0wD8kG53b8sp1u61sQfveDSrtlZ2AH7WZLrHA/huj1pVOH03FuBH8w7Aj2b9kht2itWZOXvwjls5ba3sAHwuD2cUgHfcakvr9B2AXyY7IFG/sJ1idWZDdo5bOW2t7AB8Lg9nFIB33GpL6/QdgAfwo1avU6zORAG841ZOWys7AJ/LwxkF4B232tI6fQfgAfyo1esUqzNRAO+4ldPWyg7A5/JwRgF4x622tE7fAXgAP2r1OsXqTBTAO27ltLWyA/C5PJxRAN5xqy2t03cAHsCPWr1OsToTBfCOWzltrewAfC4PZxSAd9xqS+v0HYAH8KNWr1OszkQBvONWTlsrOwCfy8MZBeAdt9rSOn0H4AH8qNXrFKszUQDvuJXT1soOwOfycEYBeMettrRO3wF4AD9q9TrF6kwUwDtu5bS1sgPwuTycUQDecastrdN3AB7Aj1q9TrE6EwXwjls5ba3sAHwuD2cUgHfcakvr9B2AB/CjVq9TrM5EAbzjVk5bKzsAn8vDGQXgHbfa0jp9B+AB/KjV6xSrM1EA77iV09bKDsDn8nBGAXjHrba0Tt8BeAA/avU6xepMFMA7buW0tbID8Lk8nFEA3nGrLa3TdwAewI9avU6xOhMF8I5bOW2t7AB8Lg9nFIB33GpL6/QdgAfwo1avU6zORAG841ZOWys7AJ/LwxkF4B232tI6fQfgAfyo1esUqzNRAO+4ldPWyg7A5/JwRgF4x622tE7fAXgAP2r1OsXqTBTAO27ltLWyA/C5PJxRAN5xqy2t03cAHsCPWr1OsToTBfCOWzltrewAfC4PZxSAd9xqS+v0HYAH8KNWr1OszkQBvONWTlsrOwCfy8MZBeAdt9rSOn0H4AH8qNXrFKszUQDvuJXT1soOwOfycEYBeMettrRO3wF4AD9q9TrF6kwUwDtu5bS1sgPwuTycUQDecastrdN3AB7Aj1q9TrE6EwXwjls5ba3sAHwuD2cUgHfcakvr9B2AB/CjVq9TrM5EAbzjVk5bKzsAn8vDGQXgHbfa0jp9B+AB/KjV6xSrM1EA77iV09bKDsDn8nBGAXjHrba0Tt8BeAA/avU6xepMFMA7buW0tbID8Lk8nFEA3nGrLa3TdwAewI9avU6xOhMF8I5bOW2t7AB8Lg9nFIB33GpL6/QdgAfwo1avU6zORAG841ZOWys7AJ/LwxkF4B232tI6fQfgAfyo1esUqzNRAO+4ldPWyg7A5/JwRgF4x622tE7fAXgAP2r1OsXqTBTAO27ltLWyA/C5PJxRAN5xqy2t03fzAvgHSjpF0v0k3SHpvZJOkHRvSadK2kHS5ZIOkHTdcnGsXr167Zo1a3olBiR62TSTyClWZ0Nk57iV09bKDsDn8nBGAXjHrba0Tt/NC+DvLyn+/LOkLSRdIGkfSQdL+r6kN0l6jaRtJB0B4NsqyOVm4xSr81sBeMetnLZWdgA+l4czCsA7brWldfpuXgC/2OEzJP1Z+bOHpGvKF4CzJT0MwLdVkAB+fvJwZup80DjrBfCOWzktgM/51sIop+/mEfBxOP6LknaUdKWkradMj8PzsRe/wYVD9C2U6Lo5OMXqzJw9eMetnLZWdgA+l4czCsA7brWldfpu3gB/L0lfkHSMpE9Iur4n4F8iKf5o1apVq6+44opeiQGJXjbNJHKK1dkQ2Tlu5bS1sgPwuTycUQDecastrdN38wT4zSR9StKnJR1XLL9UEofo26o/azZOsTorBvCOWzltrewAfC4PZxSAd9xqS+v03bwAfhNJHywX1P3elN1vlXTt1EV2cVX94cvFwSH6+S1WZ+YA3nErp3U+aJwtAHjHrZwWwOd8a2GU03fzAvjdJX1J0lfLbXLh82slnSfptDjyXs7H71++BGwwBwDfQomum4NTrM7MAbzjVk5bKzsAn8vDGQXgHbfa0jp9Ny+A32gOA/iNZuVGWZFTrM4GAbzjVk5bKzsAn8vDGQXgHbfa0jp9B+CXyQ5I1C9sp1id2ZCd41ZOWys7AJ/LwxkF4B232tI6fQfgAfyo1esUqzNRAO+4ldPWyg7A5/JwRgF4x622tE7fAXgAP2r1OsXqTBTAO27ltLWyA/C5PJxRAN5xqy2t03cAHsCPWr1OsToTBfCOWzltrewAfC4PZxSAd9xqS+v0HYAH8KNWr1OszkQBvONWTlsrOwCfy8MZBeAdt9rSOn0H4AH8qNXrFKszUQDvuJXT1soOwOfycEYBeMettrRO3wF4AD9q9TrF6kwUwDtu5bS1sgPwuTycUQDecastrdN3AB7Aj1q9TrE6EwXwjls5ba3sAHwuD2cUgHfcakvr9B2AB/CjVq9TrM5EAbzjVk5bKzsAn8vDGQXgHbfa0jp9B+AB/KjV6xSrM1EA77iV09bKDsDn8nBGAXjHrba0Tt8BeAA/avU6xepMFMA7buW0tbID8Lk8nFEA3nGrLa3TdwAewI9avU6xOhMF8I5bOW2t7AB8Lg9nFIB33GpL6/QdgAfwo1avU6zORAG841ZOWys7AJ/LwxkF4B232tI6fQfgAfyo1esUqzNRAO+4ldPWyg7A5/JwRgF4x622tE7fAXgAP2r1OsXqTBTAO27ltLWyA/C5PJxRAN5xqy2t03cAHsCPWr1OsToTBfCOWzltrewAfC4PZxSAd9xqS+v0HYAH8KNWr1OszkQBvONWTlsrOwCfy8MZBeAdt9rSOn0H4AH8qNXrFKszUQDvuJXT1soOwOfycEYBeMettrRO3wF4AD9q9TrF6kwUwDtu5bS1sgPwuTycUQDecastrdN3AB7Aj1q9TrE6EwXwjls5ba3sAHwuD2cUgHfcakvr9B2AB/CjVq9TrM5EAbzjVk5bKzsAn8vDGQXgHbfa0jp9B+AB/KjV6xSrM1EA77iV09bKDsDn8nBGAXjHrba0Tt8BeAA/avU6xepMFMA7buW0tbID8Lk8nFEA3nGrLa3TdwAewI9avU6xOhMF8I5bOW2t7AB8Lg9nFIB33GpL6/QdgAfwo1avU6zORAG841ZOWys7AJ/LwxkF4B232tI6fQfgAfyo1esUqzNRAO+4ldPWyg7A5/JwRgF4x622tE7fAXgAP2r1OsXqTBTAO27ltLWyA/C5PJxRAN5xqy2t03cAHsCPWr1OsToTBfCOWzltrewAfC4PZxSAd9xqS+v0HYAH8KNWr1OszkQBvONWTlsrOwCfy8MZBeAdt9rSOn0H4AH8qNXrFKszUQDvuJXT1soOwOfycEYBeMettrRO3wF4AD9q9TrF6kwUwDtu5bS1sgPwuTycUQDecastrdN3AB7Aj1q9TrE6EwXwjls5ba3sAHwuD2cUgHfcakvr9B2AB/CjVq9TrM5EAbzjVk5bKzsAn8vDGQXgHbfa0jp9B+AB/KjV6xSrM1EA77iV09bKDsDn8nBGAXjHrba0Tt8BeAA/avU6xepMFMA7buW0tbID8Lk8nFEA3nGrLa3TdwAewI9avU6xOhMF8I5bOW2t7AB8Lg9nFIB33GpL6/QdgAfwo1avU6zORAG841ZOWys7AJ/LwxkF4B232tI6fQfgAfyo1esUqzNRAO+4ldPWyg7A5/JwRgF4x622tE7fAXgAP2r1OsXqTBTAO27ltLWyA/C5PJxRAN5xqy2t03cAHsCPWr1OsToTBfCOWzltrewAfC4PZxSAd9xqS+v0HYAH8KNWr1OszkQBvONWTlsrOwCfy8MZBeAdt9rSOn0H4AH8qNXrFKszUQDvuJXT1soOwOfycEYBeMettrRO3wF4AD9q9TrF6kwUwDtu5bS1sgPwuTycUQDecastrdN3AB7Aj1q9TrE6EwXwjls5ba3sAHwuD2cUgHfcakvr9B2AB/CjVq9TrM5EAbzjVk5bKzsAn8vDGQXgHbfa0jp9B+AB/KjV6xSrM1EA77iV09bKDsDn8nBGAXjHrba0Tt8BeAA/avU6xepMFMA7buW0tbID8Lk8nFEA3nGrLa3TdwAewI9avU6xOhMF8I5bOW2t7AB8Lg9nFIB33GpL6/QdgAfwo1avU6zORAG841ZOWys7AJ/LwxkF4B232tI6fQfgAfyo1esUqzNRAO+4ldPWyg7A5/JwRgF4x622tE7fAXgAP2r1OsXqTBTAO27ltLWyA/C5PJxRAN5xqy2t03cAHsCPWr1OsToTBfCOWzltrewAfC4PZxSAd9xqS+v0HYAH8KNWr1OszkQBvONWTlsrOwCfy8MZBeAdt9rSOn0H4AH8qNXrFKszUQDvuJXT1soOwOfycEYBeMettrRO3wF4AD9q9TrF6kwUwDtu5bS1sgPwuTycUQDecastrdN3AB7Aj1q9TrE6EwXwjls5ba3sAHwuD2cUgHfcakvr9N1KAPzTJJ0g6a6S3ifpTcvFsXr16rVr1qzplRiQ6GXTTCKnWJ0NkZ3jVk5bKzsAn8vDGQXgHbfa0jp9N++AD6hfJunXJX1H0vmSfkPSJRuKBMDPb7E6Mwfwjls5rfNB42wBwDtu5bQAPudbC6Ocvpt3wD9e0hskPbUY/3/Lf48F8C2UYvccnGLtXts6BYB33Mppa2UH4HN5OKMAvONWW1qn7+Yd8M+RFIfoDy0R/KakXSX9LoBvqyg3NBunWJ3fCMA7buW0tbID8Lk8nFEA3nGrLa3Td/MO+P3L3vs04B8n6eWLInmJpPgTy8MkXdpWZBttNj8r6b822tpY0ZAOkN2Qbm/cbZHdxvVz6LWt5Py2l3SfPoZu0kc0sMY+RD/w/IbeXFw9uPPQG2V7G8UBstsoNo6yErIbxfaNtlHyk9Qi4DctF9n9mqSrykV2B0r6t40W/XytiEKdr7ymZ0t2ZDe/Dsz3zOm9RgEfZbWXpD8tt8m9X9Ix811rM82eQp3JvlEHk92o9s+0cbKbyb7RB5Nfw4AfvToamkBcZ/DehubDVPo7QHb9vWpNSXatJeLNh/wAvFcxqHEAB3AAB3BgXhxo8Rz8vHjHPHEAB3AAB3CgWQcAfN1ofiDpXjNuYg9JZ0j6D0n3kPQpSa+ecZ0Mn92BIyXFxZ8/lnSHpGsk/aukyYOZYguPkfRRSb8k6XJJ35b0xKlNhz4uKt1x9umsuDWEr1+VtJmk2yV9sFyXE167yx9J+qKkz25g4Esl/VDSKe6Kp/SPlPSh8vdVkm4of+IW16fMsF6Gru/A9GdqXKsVjzSPC7IPkXS4pB0kfbcMmdaulXScpFeVn8VnaHw2x0PVVuwC4OtGu7EAH8X4zAL4f5H0Ykn/WHfqrH0ZB+JWzviwiC9ft0mKe24fIelkSb8wNS7eoXCzpDcWwF8v6X8X0Af0A/4Afmmjp3vnvpI+Umr+qDmozA+UL+IfXzTXyDq+rLDkHZjURUA9rk3aU9K/F1AH5KOnjlgC8LeWL+G7lOeKAPh8BoxcosAmpsRe3Xsk3bMUZhTldZKi8E4qQPiypKeXPbuAyATwsY6PSfqEpNNKcR8t6W5lXS+SFA0Q32wDQLH38M8FOvEFgWXjOLCvpPA6YD29hNe/Lem88o9x1CUeufyNAvj4QPpvSW+TFHuVAf94UiN78HfOZfGX4/jiFO+liC9TdykvoIreiNp/l6Q/L6uIvbjwNPb0/07SayRNAze+dO1dQPuZ0luxFxfbi1w21J9nl1x/RdLW5Uv2lzZQTtPbi3HnSPplSX8jKf4evRl7j9GfBxfw/GL5PeIBJnE04bckfX3jlOuKWkvkFJ+NcUQnPucmHk32xMPPx0r6fsl0cgQ1xsXdWPH3OPoG4FdUWYzzyyy1B39ReSrfF8qH/JaSfk/SxeXJfPFhEB9CAeT44J8G/DblMOMzygdUgD6KPUAR31rjw+4tBShPkvSt8o12i7K+cVxYeVuND4n4EhZf0uKw76mSIs8/kPQASa+UtJukd5YvbuFAHKKPvY348H+CpDgS8/zyRQ3AdwM+FPFF+H9Jepak2Kv/41LzcTQrnoAZP3tdOSQekLx3+aCfAPcfJP1T0cUh2wB1HFWZBvyG+jPAfEE5xBtg+f1lDr0vBny8KOt3yumGqJOY//ckPbd8AYwv+Z+TFKcK4stgPJo73r3xqyuvdWb+jX4k6abyuRhZTZZJhtGT8cKyONIz/fkb/x+9GWMeXb5AcYh+5jh+ulewGPBblfOKcY4ulvjWfnpp5AslxSMIY3lUOSQ5AXycg7+iPJI34B/FG18A4oMk3rgXy8+UD6+ASpyXenL599hbiVtG2IPfuLUYHyJxPj326P5P2VOMD+n4ghY5xl7aleW/E8DHEwljzyPO1UYury2HcgF8P8AHjOOx1LHHHj0SEI8l+ioyiKMlsUf3F4tWNwHuXxdIxz3Sf1u8jyMqEzjEuDjvv7g/Y48wAB97fvFl4ufKfx+8gZJaDPjo1wB75Bz1EUd2Yokaims34ohQAH/6cdvxZT1O47Cs70BkHl/U4rD8YVM/mmQYrxePa1uiPq6eugZq8lkcR87iS8ItnIOntGZ1oC/g43xSFOWGAD85RP/QsucYe4IPLBd5xat0p5edysVIAH7W9PqPjxckvbAcso/Dtq8vF2zFufrJF7DYgw/Ax97f8eXQbMAkLpoE8N2Anz5EH+e243THpxcNiy9VsbccH/LTyzRwA5zRb8+T9PPly3VfwEcfxpeDOE0Q/40LupZaFgN+Mi4uxIt5R11ML3EUL+B+//4l91OrjM/UOHoTR86id/6kODF9FCb+7UZJf7gE4OOoTpxKi+tl4ho0LrL7qS2l2X/xpQ7Rx556vBkvQBDFFXsfcUg3DtHHC3bOLUUbe3iLD9HHjEIbL995RdkbicN43yyHi+MDK67UvqzsXQZUPly2wR787HlO1hB7kXGONw6nxhKHiuNwb+Qah2LjiEnsbcbplckyAXxclBeagHwcMgTwS+cy3TtxXjrqOA6vx95w+BtflOKwfOyNxRffeKx1HFGJL1dx1fpSh+jPKn0SV1nHB330Tfx3Gg4b6s/Yg58V8HGULb6AxDUC8bvEHQIx93gMd+zZR03EEb0AT+yBxlxY1ndgUheRW3yGxpe6uHZpOsP4AhbXa8QXpruX4dP1FKcx4wtePCUVwFNhaQcCAnGYaLJEMcbhpclFdnGoLi7WinOLcd4tDhHG+fT4MIlz6HFhzuKL7OJWufhg2l3SgyS9uZyHjG3EN9a4kCcu/npruYjnK+WQYpzvZdk4Dqwu59cD6nFVdOQR0ImLpgJGkXm8/TByXgz46TcDxh4ggF86k8W3ycVpjeif6Km4yC6+VEWdBwzj8PY+5ba0uKjuBeVixjPLaZDJHnUcXo/TXfGhH+Pioro4ZbKhi+ym+3NjAD5+07iI7x3lS3dcVR+P5I6+j15+d4FSgD8upo3DySxLAz7+NY5ixu2PcQ1THLmcXCgZP4taiZ2hyZ1i04CPUyxxfVKAHsBTYYM4EBd8RBHGEh9S8e1z+hyTM4nJuqK443xl7GnG3gELDuAADuDAT4kD3AffTtBxRW08JCW+1ccFdXG7R+yZZJb45hrnhOOQYFytHbfcTC5IyqyPMTiAAziAA3PmAICfs8CYLg7gAA7gAA70cQDA93EJDQ7gAA7gAA7MmQMAfs4CY7o4gAM4gAM40McBAN/HJTQ4gAM4gAM4MGcOAPg5C4zp4kBDDsRtfnG7USxxu2fcjtZ3iecCxIOd4ja1uKCUBQdwYCM7AOA3sqGsDgdGdiDu1548xTCejhaPO43nrseyeXmyXty/H8uscAXwI4fN5nFgOQcAPPWBAyvLgWnAx28WLyOKJ7jFEm+6O3Hq1wXwKyt7fhscWM8BAE9B4MDKcmAC+HiEazwRLV6ZGo91jSUeifrw8vS9eN7CBPDxdMR4CmI8iyFetBIPXIqnvm/l79wAAAQlSURBVMVjYeO53ZPl2eXJiaGJJyTGi4/ipS2xTB+ij8evxlPY4jHKcbQgnusQz2B/e3kSXeiXOkQfz2+IZzbEoft4kl08djm2E+tmwQEcMB0A8KZhyHGgcQcmgA8wxyH5gG08Oz+g+fflT7wdbdspwMe/x/PbY4m3sW0nKV4xHG/cilfbxouQ4kUp8dCkeANavK4zHscb7z6IbUwDPt6wFs8Bn7yKNd6oF+9UiMfL/ll5hO9SgI/HzsZjlmP5WjmtEKcA4uUw8WWEBQdwwHQAwJuGIceBxh2YAD7eXR4XvcXrg+PZ5/Gs84Bo/Il/nwA+9uLj/QixxPvs4/ns9yuQDUh/QtJ+5ctAPOM99u7jvH68JS+eBx+vUJ0GfLzAI/a444VH8fa8+DIQ70H4y7L3HtCOPfPFe/CvKtuOV+5OvmwE2OMLRjxvnAUHcMB0AMCbhiHHgcYdmAZ8vKgoQBygjMPwccV77NHH29QmgI+3m8ULi2KJPffJy5EC7HFIPvbAY+8/jgjECz0+U967HvrYq79oEeAnpwE2ZFO8WvevlgB87OXHl5J4vPK15QtCHDmIl8zEm9dYcAAHTAcAvGkYchxo3IFpwMcedLxkKN62Fcvvl7/HG+2WAny8vvaaou0D+OlXmk7OwccXhtjDD0jHW/YWL3FuPt7yttQ5+Di8f2D5IvHoctQhzsXvVt6/3rj1TA8H2nIAwLeVB7PBgVkdWAz4XyhvE4yXDcU58xvKa23dQ/SnlPeYxyH6OKcfe/oB69ct2oOPw//xoqPY848vGJMXJm1ZjgjEKYFYFgP+IeUQ/r+Xn8crXeNLwj3Le9jjAj0WHMABwwEAb5iFFAfmwIHFgI8pb1PgGXCPZXoPPh4ys/giu9iTDyDfKunx5SK72KOOw/RxsVycV7+q7GHHRXCxTPbg4xRAXPm+VblIL+7Fj/+Pd3fHqYLJZ85iwB9a3oseRxD+U1K8szvmEcueZY5zYD9TxIF2HADw7WTBTHBgYziwFOAXr3cx4Ce3yT2vgPhmSV9e4ja5OH9+bLmVLq6oj3P3cSh/GvDx/7GH/4Zym1x8uYi9+Dh0/ylJJxT9YsCvlvRaSXGFf1zkF7f5xSH+uPI+LtxjwQEcMB0A8KZhyHEAB3AAB3BgHhwA8POQEnPEARzAARzAAdMBAG8ahhwHcAAHcAAH5sEBAD8PKTFHHMABHMABHDAdAPCmYchxAAdwAAdwYB4cAPDzkBJzxAEcwAEcwAHTAQBvGoYcB3AAB3AAB+bBAQA/DykxRxzAARzAARwwHQDwpmHIcQAHcAAHcGAeHADw85ASc8QBHMABHMAB0wEAbxqGHAdwAAdwAAfmwQEAPw8pMUccwAEcwAEcMB0A8KZhyHEAB3AAB3BgHhwA8POQEnPEARzAARzAAdOB/wHrNHL+BoGfNwAAAABJRU5ErkJggg==\" width=\"504\">"
      ],
      "text/plain": [
       "<IPython.core.display.HTML object>"
      ]
     },
     "metadata": {},
     "output_type": "display_data"
    }
   ],
   "source": [
    "fig, ax = plt.subplots(figsize=(7,5))\n",
    "sns.barplot(data=df, x=\"Models\", y=\"Accuracy\", palette=[\"slategrey\", \"slategrey\", \"black\", \"slategrey\"], ax=ax)\n",
    "ax.bar_label(ax.containers[0])\n",
    "ax.set_xlabel(\"Models\", fontsize=14, fontweight=\"bold\")\n",
    "ax.set_ylabel(\"Accuaecy (%)\", fontsize=14, fontweight=\"bold\")\n",
    "fig.tight_layout()\n",
    "fig.savefig(\"Model barcharts.jpg\")"
   ]
  },
  {
   "cell_type": "markdown",
   "id": "2388a641-817f-4e15-815a-f66278c656b0",
   "metadata": {},
   "source": [
    "## Authors\n"
   ]
  },
  {
   "cell_type": "markdown",
   "id": "8845aea5-d412-4eac-9b51-3457f0be2c0f",
   "metadata": {},
   "source": [
    "[Pratiksha Verma](https://www.linkedin.com/in/pratiksha-verma-6487561b1/?utm_medium=Exinfluencer&utm_source=Exinfluencer&utm_content=000026UJ&utm_term=10006555&utm_id=NA-SkillsNetwork-Channel-SkillsNetworkCoursesIBMDS0321ENSkillsNetwork865-2022-01-01)\n"
   ]
  },
  {
   "cell_type": "markdown",
   "id": "02bdba00-e939-4425-b819-417baeb84f8c",
   "metadata": {},
   "source": [
    "## Change Log\n"
   ]
  },
  {
   "cell_type": "markdown",
   "id": "91fce393-48e3-493a-a228-9d58989c4766",
   "metadata": {},
   "source": [
    "| Date (YYYY-MM-DD) | Version | Changed By      | Change Description      |\n",
    "| ----------------- | ------- | -------------   | ----------------------- |\n",
    "| 2022-11-09        | 1.0     | Pratiksha Verma | Converted initial version to Jupyterlite|\n"
   ]
  },
  {
   "cell_type": "markdown",
   "id": "73d1479f-e16f-449f-a5fe-ef1d4e367a1a",
   "metadata": {},
   "source": [
    "### <h3 align=\"center\"> IBM Corporation 2022. All rights reserved. <h3/>\n"
   ]
  }
 ],
 "metadata": {
  "kernelspec": {
   "display_name": "Python 3 (ipykernel)",
   "language": "python",
   "name": "python3"
  },
  "language_info": {
   "codemirror_mode": {
    "name": "ipython",
    "version": 3
   },
   "file_extension": ".py",
   "mimetype": "text/x-python",
   "name": "python",
   "nbconvert_exporter": "python",
   "pygments_lexer": "ipython3",
   "version": "3.9.7"
  }
 },
 "nbformat": 4,
 "nbformat_minor": 5
}
